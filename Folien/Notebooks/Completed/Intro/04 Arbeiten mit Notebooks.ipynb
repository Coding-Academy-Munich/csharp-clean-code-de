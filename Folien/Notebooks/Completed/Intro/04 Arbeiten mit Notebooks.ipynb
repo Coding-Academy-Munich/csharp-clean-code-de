{
 "cells": [
  {
   "cell_type": "markdown",
   "id": "601afa97721cda63",
   "metadata": {
    "lang": "de",
    "slideshow": {
     "slide_type": "slide"
    },
    "tags": [
     "slide"
    ]
   },
   "source": [
    "\n",
    "<img src=\"data:image/png;base64,iVBORw0KGgoAAAANSUhEUgAAAQAAAAEgCAYAAABb3q1QAAAEuGlUWHRYTUw6Y29tLmFkb2JlLnht\n",
    "cAAAAAAAPD94cGFja2V0IGJlZ2luPSLvu78iIGlkPSJXNU0wTXBDZWhpSHpyZVN6TlRjemtjOWQi\n",
    "Pz4KPHg6eG1wbWV0YSB4bWxuczp4PSJhZG9iZTpuczptZXRhLyIgeDp4bXB0az0iWE1QIENvcmUg\n",
    "NS41LjAiPgogPHJkZjpSREYgeG1sbnM6cmRmPSJodHRwOi8vd3d3LnczLm9yZy8xOTk5LzAyLzIy\n",
    "LXJkZi1zeW50YXgtbnMjIj4KICA8cmRmOkRlc2NyaXB0aW9uIHJkZjphYm91dD0iIgogICAgeG1s\n",
    "bnM6ZXhpZj0iaHR0cDovL25zLmFkb2JlLmNvbS9leGlmLzEuMC8iCiAgICB4bWxuczp0aWZmPSJo\n",
    "dHRwOi8vbnMuYWRvYmUuY29tL3RpZmYvMS4wLyIKICAgIHhtbG5zOnBob3Rvc2hvcD0iaHR0cDov\n",
    "L25zLmFkb2JlLmNvbS9waG90b3Nob3AvMS4wLyIKICAgIHhtbG5zOnhtcD0iaHR0cDovL25zLmFk\n",
    "b2JlLmNvbS94YXAvMS4wLyIKICAgIHhtbG5zOnhtcE1NPSJodHRwOi8vbnMuYWRvYmUuY29tL3hh\n",
    "cC8xLjAvbW0vIgogICAgeG1sbnM6c3RFdnQ9Imh0dHA6Ly9ucy5hZG9iZS5jb20veGFwLzEuMC9z\n",
    "VHlwZS9SZXNvdXJjZUV2ZW50IyIKICAgZXhpZjpQaXhlbFhEaW1lbnNpb249IjI1NiIKICAgZXhp\n",
    "ZjpQaXhlbFlEaW1lbnNpb249IjI4OCIKICAgZXhpZjpDb2xvclNwYWNlPSIxIgogICB0aWZmOklt\n",
    "YWdlV2lkdGg9IjI1NiIKICAgdGlmZjpJbWFnZUxlbmd0aD0iMjg4IgogICB0aWZmOlJlc29sdXRp\n",
    "b25Vbml0PSIyIgogICB0aWZmOlhSZXNvbHV0aW9uPSI3Mi8xIgogICB0aWZmOllSZXNvbHV0aW9u\n",
    "PSI3Mi8xIgogICBwaG90b3Nob3A6Q29sb3JNb2RlPSIzIgogICBwaG90b3Nob3A6SUNDUHJvZmls\n",
    "ZT0ic1JHQiBJRUM2MTk2Ni0yLjEiCiAgIHhtcDpNb2RpZnlEYXRlPSIyMDI0LTA4LTA4VDIxOjU2\n",
    "OjAyKzAyOjAwIgogICB4bXA6TWV0YWRhdGFEYXRlPSIyMDI0LTA4LTA4VDIxOjU2OjAyKzAyOjAw\n",
    "Ij4KICAgPHhtcE1NOkhpc3Rvcnk+CiAgICA8cmRmOlNlcT4KICAgICA8cmRmOmxpCiAgICAgIHN0\n",
    "RXZ0OmFjdGlvbj0icHJvZHVjZWQiCiAgICAgIHN0RXZ0OnNvZnR3YXJlQWdlbnQ9IkFmZmluaXR5\n",
    "IERlc2lnbmVyIDIgMi41LjMiCiAgICAgIHN0RXZ0OndoZW49IjIwMjQtMDgtMDhUMjE6NTY6MDIr\n",
    "MDI6MDAiLz4KICAgIDwvcmRmOlNlcT4KICAgPC94bXBNTTpIaXN0b3J5PgogIDwvcmRmOkRlc2Ny\n",
    "aXB0aW9uPgogPC9yZGY6UkRGPgo8L3g6eG1wbWV0YT4KPD94cGFja2V0IGVuZD0iciI/Pn5bG28A\n",
    "AAF/aUNDUHNSR0IgSUVDNjE5NjYtMi4xAAAokXWRzytEURTHP2ZoJj+iWFhYTMIKMWpiYzFiKCzG\n",
    "U35t3rz5pebH672RZKtsFSU2fi34C9gqa6WIlKytiQ16zvWmZpK5t3vP537vOadzzwWPljGydnUf\n",
    "ZHMFKxoJB+bmFwK+F/wymwnh1w3bnJoZ06g4Pu6pUva2R+Wq7PfvqIsnbAOq/MLDhmkVhMeFJ1cL\n",
    "puId4RYjrceFz4S7LSlQ+E7pMZdfFKdc/lJsadER8DQJB1JlHCtjI21lheXldGQzK0axHvWS+kRu\n",
    "dkZsu6w2bKJECBNgglFGpCf9DMkeoocgvXKiQnzfb/w0eYk1ZDdZw2KZFGkKdIu6ItkTYpOiJ2Rm\n",
    "WFP9/9tXOzkQdLPXh6Hm2XHeOsG3Dd9bjvN55Djfx+B9gstcKT5/CIPvom+VtI4DaNyA86uSFtuF\n",
    "i01ofTR1S/+VvLI8ySS8nkLDPDTfQO2i27PiPScPoK3LV13D3j50iX/j0g9uCmfpmg9wSAAAAAlw\n",
    "SFlzAAALEwAACxMBAJqcGAAAIABJREFUeJztnXd803X+x18Z3SPdezesykaWVlBxnAxRHIgeFBAX\n",
    "nuN3d57m3OvqPDcCFkoqCnoICq5jg6WlLZS2QEsh3U1nmrZpmtGs3x8BD7BA0yb5fMfn+XjwEJv0\n",
    "833Rfr+vfMZ7CEDhPHKZwg/ASACjLvqTCKAZQDWAqrN/zv39VEam1EBEMMVtCEgLoLgGuUzhAeA+\n",
    "AE8DmADHf9ddANYD+DQjU1rjZHkUhkANgGPIZYogAI8AeAJArBOGtALYAeCjjEzpPieMR2EQ1AA4\n",
    "glymSIb90345AH8XXeY4gE8A5GRkSo0uugbFjVADYDlymSISwJsAlgIQuemytQCeyciUbnHT9Sgu\n",
    "ghoAS5HLFJ6wf+K/ACCAkIwDAJ7KyJSWEro+ZYhQA2AhcpliPoD3AEhJa4F9jyALwAsZmdJ20mIo\n",
    "jkENgEXIZYqrAHwI4CbSWvqhG8BrAD7JyJSaSIuhDAxqACxALlOEwP5wPQr3rfMHy2kAf83IlP5E\n",
    "WgjlylADYDBymUIM4DEArwAIIavGYX6F3QgqSAuhXBpqAAxFLlPcAuADAGmktQwBM4BVAF7JyJR2\n",
    "khZD+SPUABiGXKYYBuB9APNIa3EiHQBeArAmI1NqIS2G8j+oATAEuUwRCOBFAE8C8CQsx1WcAPB0\n",
    "RqZ0D2khFDvUAAgjlymEsEfvvQkggrAcd/EDgL9lZEqrSAvhO9QACCKXKa4D8BHsyTp8wwj7keab\n",
    "GZnSHtJi+Ao1AALIZYoEAO8CuJe0FgbQAuB5ANkZmVIbaTF8gxqAG5HLFL4AngPwdwA+hOUwjaOw\n",
    "hxUfIi2ET1ADcANymUIA4H4AbwGIIyyH6WwG8I+MTGkDaSF8gBqAi5HLFJNhX+dPJ62FRegBvAPg\n",
    "nYxMqY60GC5DDcBFyGWKaNg/8ReD/pwHSwOAZzMypZtIC+Eq9MZ0MnKZwgvAXwH8E64rzME3DsEe\n",
    "P3CEtBCuQQ3AichligWwp+kmk9bCQWwA5ABkGZnSFtJiuAI1ACcglynGwn6mfQNpLTygB8C/AHxA\n",
    "y5INHWoAQ0AuU4QBeB3AQ2B+mi7XqAbw94xM6TbSQtgMNYBBcLbk9uMAXgYQRFgO39kL+/7AcdJC\n",
    "2Ag1AAeRyxS3Afg37I02KMzAAuALAC9mZEpVpMWwCWoAA0QuU4yAPT//NtJaKJekC8CrsDczMZMW\n",
    "wwaoAVyBs402XoZ9yu9BWA5lYJwC8H8ZmdJfSQthOtQALsHZNN2HYd/kCyMshzI4foa9LFklaSFM\n",
    "hRpAP8hliuthP9YbR1gKZeiYAHwK4NWMTGk3aTFMgxrAeZxtr/UegAWktVCcTjvsFZe+yMiUWkmL\n",
    "YQrUAADIZQp/ADLYQ3i9CcuhuJZS2I8N95MWwgR4bQBn03QXA8gEEENYDsW9bIU9kIjXrc95awBy\n",
    "mWIa7Gm6U0hroRDDCHtMx78yMqVa0mJIwDsDkMsUsQDehr1AB+/+/ZR+aYZ9CZjDt7JkvHkA5DKF\n",
    "N4BnADwLwI+wHAozKYR9fyCftBB3wQsDkMsU98JeYSaRtBYK47EB2AR7WTIlaTGuhtMGIJcpxsO+\n",
    "zp9BWguFdehgXyq+m5Ep1ZMW4yo4aQBymSIC9kYbywEICcuhsJt62GcD35AW4go4ZQBn03Sfgj3g\n",
    "I5CwHAq3+A32/YFi0kKcCWcMQC5TzIW9qeZw0loonMUKIBvA8xmZ0lbSYpwB6w1ALlOkwZ6mewtp\n",
    "LRTeoAHwBoCPMjKlfaTFDAXWGoBcpgiGPff7MQBiwnIo/EQBe5PT7aSFDBbWGYBcphABeBT2hz+U\n",
    "sBwKBQB2wV5/4CRpIY7CKgOQyxSzYE/THU1aC4VyERYAqwG8lJEpVZMWM1BYYQBymSIV9g2++aS1\n",
    "UChXQA3gFQCfs6EsGaMNQC5TBAB4AcDTADwJy6FQHKEc9mXBTtJCLgcjDeBsmu4y2IN5ogjLoVCG\n",
    "wg7YNwrPkBbSH4wzALlMcS3s4buTSGvhCiKxAGIvITw8hfDwEsDDSwgPLyHEXkKIxAKYjFb06a0w\n",
    "6izo01vRp7fAbLbZo+IpzqAPwMcAXs/IlGpIizkfxhiAXKaIhz1h5z7SWliFAPD2EyEwzAOScE9I\n",
    "wj0QGOaJwDAPePmJ4OEpgFDk+K/ZYrb9bgZGvfWCvxu0FnQojehQGmHUWVzwj+IsbbAvadcxpSwZ\n",
    "cQOQyxS+AP5x9o8PYTmMRigSICzeC5FJPggM94AkzAOB4Z7w9CaX7qDtNEHVaERHo/F3UzAZGXFv\n",
    "M5ljsIcVHyQthKgByGWKRbBnXMWT1MFUBEIBQmM8EZXqg6gUH0Qk+UDsQdyzL48N6FaZ0NFoQIfS\n",
    "CFWjEepmIywmup7oh/8AeCYjU1pHSgCRu0kuU0yCfZ1/LYnrMxYBEBxpf+CjU30QmewDDy/2JzPa\n",
    "rDY0KfSoLdWivryXzhAuxAB7Jeq3MjKlve6+uFsNQC5TRMHe2nmpu6/NZPyCxEiZEIDUCQEIDON2\n",
    "8yGL2YbGU72oKdVCWamDxUxnBmdRAngOwFfuLEvmlodQLlN4Avg/AM8DCHDHNZmOh5cQiaP9kDox\n",
    "AJHJ/Nz6MBmtqD9pN4PmKj1sVmoGAA4DeCojU1rojou53ADkMsUdsE9xUl19LaYjEAoQM8wHqRMC\n",
    "EJ/mB5GYToLOYdBaUHtci5pSLdobDHw/grQB2AjguYxMaZMrL+SyO1AuU4yGPW5/lquuwRbEnkIM\n",
    "nxKItHQJfANp4uKV6FGbcHx/F6qP9cBq4bUT9MLes+L9jEypwRUXcLoByGWKUACvAXgEgMjZ47MJ\n",
    "T28hRkyXIO0aCbz8eP2jGBQ9ahPK9naiukTL9+VBLeynBVucPbDTDEAuU4gBrIQ9ESLYWeOyES8/\n",
    "EdKukWDEdAnRM3qu0NNx1ghKeW8EB2DfHyh11oBOMQC5THEr7FV5RjljPLbiGyhGWroEw6dKmH9e\n",
    "z0I0HSaU7elETVkPbPw9SbQCWAd7WbL2oQ42pLtULlMMg/3BnzNUIWxG5CHA6BnBGD0ziG7suQGN\n",
    "yoTSPWrUHtfy2Qi6YV9qf5KRKTUNdpBB3a1ymUICe+XdJwFw++D6CsSO8MWUeWEICOH1j4EI3W19\n",
    "KNndibqTWj6fGpwG8NeMTOlPg/lmhw1ALlMsA/AWgIjBXJAr+AWJMXlOGBKuol3GSFN/sheHf2iH\n",
    "QcvrxKT/AvhLRqZU4cg3DdgA5DJFIIAsAPc4KIxTCEUCpKVLMPbGELrOZxDGXgvyv29H/Um3R9My\n",
    "iR4ADznSxGRAd7BcppgAe+ICr4N5IpN9MG1+GCQRtDgRU6ku0aJwRzv69PzdHACwBvZswyvGDlzR\n",
    "AOQyxUrYe6h7OUEYKxEIBZhwcwhGzwwiLYUyAHQaM/K3tkN5WkdaCklKANx7pUpElzQAuUzhA2AD\n",
    "gHudq4td+ErEmLEwEhFJ3qSlUBzkTJEGR37u4HP2YQ+ApRmZ0q2XesPlolTWgOcPf+xwX8x7Io4+\n",
    "/Cxl2ORAzHsyHlEp/Ey2gj3xbpNcpph6qTf0OwOQyxSPwF7jnJcIRQKMvzkEo2fQKT9XqDjUjaO/\n",
    "dvA1t6ARwISMTKnq4hf+YABni3UcAk/X/H4SMWYsikR4Av3U5xrK0zoc+LoV5j5eLgl2A7j14lqE\n",
    "FywB5DJFCIAt4OnDH5HkjblPxtOHn6PEDvfFrQ/FwNufl4lZNwF4/eIvXrwHkAMgyR1qmEZ8mh9u\n",
    "Xh4DLx+avMNlQmO9cNujsZyvvHQJZG8szL///C/8vgSQyxSTAbilCgnTGDY5ENPuCIeAxvXwBqPO\n",
    "gr3yFnvxER6gaulG7q5ymExmzY+tyyTnvn7+x90KArrIIgDG3BCM6XfSh59vePmKcMuKGMSP4nYo\n",
    "t77XiP0/l+G7DYfQ0qhGR6sm8NEpO35P3hMBgFym8IP9zJ83a3+BAJgyNwxjZvK6dAGvEYoESBrr\n",
    "D2OvvdEJl7BarCgtrMbObcVoa+q64DUfX88RJ9Rb1gL/mwHcAx4V6xSJBbhuYSRGTpdc+c0UTiMQ\n",
    "AFPnh2PCLSGcqVNdc7oFm784gMP7TsHU98cGxc0N6glPpP/sDwDnCtTxZvovEgtww+IoxAzzJS2F\n",
    "wiDGXB8MX4kYed+1sbbGgLq9B4d2l0NZ+4fj/gswGkzC3h7DGwCeFstlCil40qBDIATS742gDz+l\n",
    "X1InBMBksKLwRxWr6gsY9H0oOnga5cfqYbMNTLi6vecBAE+LAYxxqTqmIACmzAtH4mh/0kooDGbk\n",
    "dAm0nWaU53Zd+c2EsVptOHm0Fkdyz8BocKwoUI9GHwzYlwC86Ms37sZgjJgaSFoGhQVcPTsUvV1m\n",
    "1J3QkpZySRqq25G3uxydHYPTqO81ip5I/9mTFwYwfGogxs0KIS2DwiLS742ATmNGez2z4gS61L3I\n",
    "31OOOkXbkMax2QCLxTqB8waQONof024PJy2DwjJEYgFuXBKFXz5XQtMx6JqbTqPPaMaR3NM4caQW\n",
    "VieVRjebLNw2gKgUH1y3MIIzxzsU9+LlK8KsZdH45XMlDL1k6g3abDZUlDSg6GAl9Lo+p45tNlvS\n",
    "OGsAAaEeuGFxFIQi+vRTBk9AiAduWBKFnVlNsJjcezTQVN+BQ7vK0dGmccn4pj5LqhhAlEtGJ4hI\n",
    "LMDMRZHw8KKJPZShEx7vjevujcSBTS1uiRHo6dIhb28FaipbXHodk8kcLcb/goE4w9WzQxESw5uo\n",
    "ZoobSLjKD1ffFoainy4fZDMUTH1mFOdVoaywGhaLG5zGBiHnHv7E0f4YMY2G+FKcz6hrJWip0aOh\n",
    "3PmlxyuPN6Jg/ynotO7NSeCUAQSEeOCau+iOP8V1TL8jHG21Bhh1ztkUbFV24tCucrQ1kwk84owB\n",
    "iMQCzKDrfoqL8fYXYcq8MPz2TeuQxuntMeDwvgqcOdnkJGWDgzMGMPFPoQiNpet+iutJHuePuhPa\n",
    "QXUhMpstKD1cjWOHq2A2kW9lxgkDiBvph1HX0HU/xX1Mmx+O1loDjA7EB1RVNCF/7yloNXoXKnMM\n",
    "1huA2FOIqfPDSMug8AxvfxGmzgvDwc1XXgqcK8fV0qh2gzLHYL0BjL0hGH4S1v8zKCwkaax9KVB3\n",
    "ov+lgL7XiIIDlagsaxxwmq67YfWTI4nwxFXX0ak/hRxT54ejtcZwQaiw1WJFWVENjh5S9FuRh0mw\n",
    "1wAEwNTbwyAQ0lBfCjm8/USYcnsYDm6yLwVqz7Qif08FujvZ0aactQaQPNafzz3fKAwiaYw/Sva2\n",
    "4esPD6PxCuW4mAYrDcDTW4jJc+jGnyMYey3Q9Vig7zFDp7FArzFD12OBodcCkVgAL18hvH1F8PIT\n",
    "wctXBG8/IXwlYgSE8LKBxoAx6izY8vFJrHnpN0Yc6zkKKw1g/M0hfG3vdEWsFhtaqvVoqNBB3WSE\n",
    "TmOGQWuBxTy4TSgvHyHC4r0RGueF8HhvhMV7wcuX/uxtVuDQ9ga8s3IXVM3MrRx0JVhnAJIITxrr\n",
    "fxEmoxXKSh3qy3vRdFqHPoPzEkmMeiuUp3VQntbZvyAAJOGeSB7rj+Tx/rycIVSXdePdx/agNK+R\n",
    "tJQhwzoDGHN9EO3iA0CnMaOhQoeG8l60VOvd1/baBnS39aFktxole9QIj/NG8nh/JI31h7cft2cG\n",
    "XW1GfPFCAb7PKgFDT/UchlUGEBDigeRxvOlf0i89HSYU71Sj/oSW/E1oA9obDGhvMKDopw4kjfHD\n",
    "uFkhnGu8aTJY8cOaU/jsuf0wGph9rOcorDKA0TP5++lv6LWgdE8nzhRp3Pdp7wA2qw01pVrUHtci\n",
    "eWwAxs0KRkAoy43ABhT+2oS3H9uF5rpu0mpcAmsMwFciRupE/n36m/usOPlbN8pzu2AyMr9ljc0K\n",
    "VJf0oKZMi5Tx/hg3KwT+way5zX6nvqIH/35iHwr31JKW4lJY85u56rogXtX3s1mB00UalO1VQ9/D\n",
    "vuMlm9WGquIe1J3oxcRbQ1jTh7Gnow/rXz2Cbz89Qn6J5QZYYQDe/iIMn8yfph6qRiNyv22FRkW+\n",
    "HPVQMfdZUbhDhfryXlx7VwT8gph5y5n7rPgl+ww+/Pte6LXs/7kPFGb+Ni4i7dogiDz48elfXaJF\n",
    "/rY2t1egdTUtVXps/6gBk+eEQno1s8z82N5WvP3oLtSfYV62nqthvAF4egsxYhqzbhiXYAOKd3bg\n",
    "xMEuVjWmdAST0Yq8re1QntYh/d5IiMRkTb2pqhcfPnUAuT8piOogCeMNIHGMP+fLfJn7rDi4uQ2N\n",
    "p9iRQDJU6k70Qqdpwo1LoohEFfZ2mfDlWyXY+O5hp3XZYSuMN4DUCdze+dd2mrA3pwVdrc7t+sJ0\n",
    "2usN+GW1Ejcti4Z/sHuOCy1mG3Z/VY33n94DbRezev6RgtEGEBDigYgkb9IyXEZrjR77v251qKwU\n",
    "l9CoTPj5cyVmZUS7vJ7jiUPtePuR3ag62e7S67ANRs+tk8f7k5bgMpoVeuxa38zbh/8cBq0F//2i\n",
    "CapG19TDb6vX4YW7d+Lh9E304e8H5hqAgLvTf43KhAObWhgZ0UcCc58Ve3Oa0aN23vGbvseM7FeL\n",
    "cVfqeuz97pTTxuUajDWA8Hhv9oeS9kOfwX6z9+mZH9XnTgxaC/ZkNw+54YbVYsO+b2pxd+oGfPFK\n",
    "Lixm+nO+HIw1AC5++ttswMFN3AjwcQWaDvuG6GBrF1QeUePhaVvw/H3b0dmuc7I6bsJIAxCJBUga\n",
    "y731/5GfVWg6Q2/My9Feb3C4605HkwFvLN6LZZM3ovxIs4uUcRNGngJES33h6cNIbxo0iiM9qMjj\n",
    "ZkaZs6k/2YvTBRoMn3r5ADCjzoLvPjmJ1S+ysxwXE2CoAXCr2GdbnQEF29s5G+HnCo780oGY4T79\n",
    "xgjYrEDe9ga87eRyXM+uuRERcX+ceXZ3GPDakp0Oj7fobxNx9Y1x/b722pKd6O4gH4vASAPgUrVf\n",
    "s8mGg5taB72u5SvmPisObWnHrStigPMihqvLuvHuyj0oPeT8clwTZsYiYUTwH77erhycyQwbF4bp\n",
    "s5P6fc3DixnVkxhnAN7+IgRHeZKW4TTKc7ug03Crioy7aK3Ro/xQF9LSgzhZjosJMM4AopK58+lv\n",
    "7LXg5EEyfd+5QuGPbSg51IAvXvmNc+W4mADzDCCVOwZQureTFVV8mIjNZkNFaQOKDlRCr+NXnoQ7\n",
    "oQbgInrUJpwu1JCWwUqa6juQt7scqlb683M1jDIAX4kYgRyJ/ju2U01DfR2kp1uP/D3lqK5sIS2F\n",
    "NzDKALiy+9+hNKLuOHu7xbgbU58Zx/KrUFpYTUN33YwYFxyykCUqmRupv0d/6aA71QPk9PFGFOyv\n",
    "RK+W/Jk437DZIGDUDEASwf7jP1WjES3VetIyGE+rsguHdp9EWxM9JSEJowwgMJz9BlB/kk79L0dv\n",
    "jwGH953CmZNK0lIoYJABePmJ4MWB+P+Gcn7U9XMUs9mC0oJqHMuvonH7DIIxBiDhQD85jcqE7naa\n",
    "6nsxVRXNOLyvAj3ddGnENBhjAFxoKFlPP/0vQNXSjUO7y9Hc4N56+5JQbySO/GNM/5Xw8u3/cfDw\n",
    "EmHstdEOjxcccelTrbQpUehysGZBR4sOyirnZpQyxwA4sP6n0387+l4jCg5UorKsETYCxyHjZ8Qi\n",
    "c+scp40XFOaD1bn3OG08AHhrm+P6vvusDO//Zb9TdTDGACTh7J4BGLQWqBr5fZRltVhRVlSL4rwz\n",
    "6DPSuH02wCADYPcMoKGiFzYex7DUnmlF/p4KdHfSWRCbYIQBCIQCBIQwQsqgaajg542vVvUgb1c5\n",
    "GmtVpKVQBgEjnjovXyEEQsYEJA6K9nrX1LVnKka9CUW/VeJkcT2RdT7FOTDCADw82X3+bzHbYNTz\n",
    "42zbarWhvLgORbmnYdTTI0+2wwwDYHnzT32PmRf1/hpq2pG3uxydKmZHO9ad6sT61wod/r67/zIW\n",
    "gSF/zEfRa03Y9O9jDo83885UpI4J7fe1zR8cg67HMQMtL3R+liQjDEDsxe7pv76H25/+3epe5O0p\n",
    "R52ijbSUAVFboUbWy4cd/r6bFg7r1wC03cZBjReTHHhJA/j6vWKomsjvGzHCANg+A+Bqzb8+oxlH\n",
    "D53B8aIa3rfR5irUAJyATsOtGYDNZsOp0gYU0nJcnIcagBPQ93BnBkDLcfELZhgAy08BuDADoOW4\n",
    "+AkjDID9m4DsnQGYTRYU5yloOS6ewgwD8GD3DMCgZecM4MSJcigqmqButNCHn6cwwgDMJnbffCIx\n",
    "u2YwSmUzdu/ei6YmeyddX28/xCeMQnuDjkb18QxGGECfnt0G4OnDjD5vV6KnR4t9+w7g5MmKC76u\n",
    "M/Sisv4IwoKjEOQZh45W8ufTFPfAEANg5xT6HExvZW42m1FQUIT8/EKYTJeOPlN1tkCFFiTGDIdF\n",
    "64deDb/Tm/kAIwzAyPIZAJNrGVZUVGLfvgPo7h74sV5d02mIxR5ISbgKnc1mWsOPwzDCAOgSwPm0\n",
    "trZh1669aGgYXBtts9mE0/UlCPCTICZyONoamR3/TxkcDDEAdn/CMGkJoNPpsH//bygrO+GUDb2e\n",
    "3m5U9hYhOjwe3rZIdKmYvz8gFAogEg/idyLofzNXIBDAw9NxkxeKLr057OEpcnhMq9Xm9NMaZhiA\n",
    "gd0zACb0M7RYLCgqKkZeXj6MRueH7za3NwBoQEpcGgxqD0aHCF83P8WpNQHDYvxwwPi408YDgO9q\n",
    "ljr+PVytCcj2JUBorBfR6585U4U9e/ahs9P1XXaqG8vh5emNpISroFIaYLWw+3fHdxhhABazDRaT\n",
    "DSIPdp2nn8NXIoa3v8jtAUEqlQq7du1DbW2dW69r7DOgsv4ogiVhCPNLhqqJ7g+wFUYYAAAY9Rb4\n",
    "ejBGjsOExnpBWelYnffBotcb8Ntvh1BcXEI0cKezW4XObhXio1IgNARB00Ubf7ANxjxxfXorfANJ\n",
    "qxg87jAAq9WK4uIS5ObmQa9nzhl9Q0s1hEIRUuOvgqbNRkuCswhGGQCbcfU+QE1NLXbv3geVqsOl\n",
    "1xksVqsFZxrK4Ovtj/j4kWhvpGHFbIAxBqBjcUYdAEQm+0AkFsBidu5Nr1Z3Ys+e/VAoqpw6rqvQ\n",
    "GbSobDiC8JBoSDzi0NHq/v0BdasOh391fF9k/IxYePfTHszUZ8HRvY7HUwwbF4bQaL9+Xyve34g+\n",
    "g2N7RjXlzm+xJpDLFIyw6dEzgzDx1v7rp7GFfV+2OK0/gNFoxKFD+SgqKobVyt7ZUVLMCJh7fNHb\n",
    "w5wly6XYfGoxEkb8sadgu1KL+XHrHR7vpZxb8KfFI/t97fbYdcRrAiakRpQxZgbQoWR/Xf2ksf5D\n",
    "NgCbzYbS0uM4cCAXOp17NhVdSW1TJcRiD6QmjIa62UTDihkGYwxAzQEDiB/lC7GHAGbT4CZV9fUN\n",
    "2L17H1pb2VF9d6CYzSZU1h9DgH8QYiKH0bBiBsEYAzDqrehRmxAQQj6qbrCIPYWIHeGHuhOO3eDd\n",
    "3d3Ys+cAKitPu0gZM+jRdqFSW4ToiHh4WyLQ1cH+GQ7bYYwBAPZZAJsNAACSx/kP2ABMJhPy8gpQ\n",
    "WHgEZjO7N0EdobnNHlacGncVdGoxDAwOK+Y6jDIAldKIxDH+pGUMifg0PwSGekDTcfmuL8ePn8T+\n",
    "/b9Bq+XvdLiq8SS8vbyRSMOKicEoA+DCPoBAAIy5IRiHtvS/jr+4HBffMRjtYcUhkjCE+SZD1cxf\n",
    "QyQBowygo4n9BgAAKeMDULa3Ez3q/80CLlWOi2JH3a2CuluF+KhUCAwS9NCwYncgYJQB9HFgIxAA\n",
    "BEJ7XEP+tvYBl+Oi2GloqbKHFSeMhqbVSsOKXQxzKlmchQvxAAAgnRSAZlU91q5dj4MHD9GH3wGs\n",
    "VgvO1JdCK6xFRLwfhEJ2ZomyAeYZQCM3DEAgFGDsTYEO1eKjXEivvgdnlEfx3IZ0zLxDSloOJ2Gc\n",
    "AbQ3MD9kdKDcdu8k3LxgAmkZrGbRypmYu3gCMrfNxjs/3oaUq8JIS+IUzDOAegP0PdwJF33580UI\n",
    "Cu0/IYRyeWKTQvG3t+74/f/T5wzDuiP34KmP0uEf5E1QGXdgTDLQ+UyZF4aR0yWkZTiNH78uwjMP\n",
    "OJ5MwmcEAgGy/vsErrl5VL+vtzdpkPOvY9i6qhTOyjpOGhUCD68/Fuo0m6yoOel4GnZUYgACgvs3\n",
    "qpqTHcQ7YiWkRhxnpAFEJHrjT4/EkpbhVB6f/zn2bi8jLYM1LFg2HW+uX3LF950sasSa547gyN56\n",
    "N6jiFgmpEccZtwQA7MsAXTe3jn9e++LPiE1id7qzuxg5Pg4vfLJwQO+9anIcPto9H69uvgkxyUEu\n",
    "VsY9GGkANhtQe5xbEWGhEQFY89PjCAjyIS2F0UTGBmH1j4/Dx2/gFZYEAgFuXpgGeelCPPzGVHh5\n",
    "Myq8hdEw0gAAoLaMWwYAAKlp0fj4u0fg4Ulv0P7w9ffC5ztWIjJ2cJ/kfgFeWPr8VOScWIg/LR51\n",
    "qT4flPNgrAGolMYLQmm5wrQbR+C1tQ9AQO/OCxCJhHh/04MYNSF+yGPFp4bipZyb8dGeeUibHO0E\n",
    "ddxFdOd1T75CWsSl8PEXITKJe1PmkePjYLPZUHTgDGkpjEAgEOD5jxdi3p+nOHXcmORgzFk2CpGJ\n",
    "vigvaIe+l3sfKENBEuLXxmgDMOosGDGVO8eB5zPl+uHw8vbA4b2VpKUQRewhwhtZf8a9D6e7ZHyh\n",
    "UIAREyMxe9kICARCnCxohc3KuIMvIkhC/NoYuwQAgM6WPnS3c9e1H3ruVrwlz+DtnoCPnxc++/5R\n",
    "3Ll0usuvFRTqh5VvXYvsY3djxvxUl1+PLTDaAGDj5mbg+dy+eCo+37ESfgH8imwLDvPHhj1PYcbs\n",
    "0W69rnR0FN76fg7e3n4bktNoWDGzDQCA4qgGVgu3p2zX3jIKXx74K8KjubncuZj4lDB8lft3jJ2a\n",
    "TEzDdfOGYf3Re/DUh+nwDyTb3JUkjDeA3i4zFEd7SMtwOaMmxOP70hcw645xpKW4DIFAgAXLpmNb\n",
    "yfNIHhFJWg7R89v4AAAWN0lEQVS8vD2w8KmJ2Fh+HxasHMvLY0PGGwAAnDjQyYuNm5Bwf3y67VFk\n",
    "bshAgIRbpx+hkYH49PtH8eb6JYxb7kTESvD3z67HmsMLMOn6BNJy3AorDEDbaUZVMbf3As7njoxp\n",
    "2H78RUyb1X9XGbYx645x2H78Rdx4+1jSUi7L6Clx+HjvfLzy9U2ISmBxp1oHYPQx4Pl0tfZh5DQJ\n",
    "b6Zp/hIf3LFkGqLiglFR0gCthn11EpJHROKlVYvw1Ou3w8fPk7ScASEQCJA6JhxzHxwJbz8PnMxv\n",
    "gcXMzWrFjI8DOJ8+vRUBIR4IiebXhk3axAQ88PhMhEVJUFnayIoeewmp4ZB9eA9eXfMAho+OIS1n\n",
    "UHh6iTFhRixm3ZcCbacJijIVaUlORxLi18bIdOBLERjmgfn/l8CbWcDF9BnN2Lz6IL54679QtTCv\n",
    "1FhMYggee2E27lw2HSIRK1aXA6Zobw1WP1eEiqIW0lKcBmPrAVyO9HsjkTKe3c1DhopBb8Kurcfw\n",
    "06YiHNpZQbThppe3B66fOwZz75+M6+eOgdjjjwU1uILFbMWP2Sew5vlCdLWzv60ZKw1AEuGJ+U/F\n",
    "AzydBVxMV0cvfv3PUfz4dRGOHaqC1Q2nJSKREFNuGI55D0zBzQsmwD+QWbv6rqZT1Yuv3zmGzR+U\n",
    "sHp/gJUGAAAz7otE0lh+zwL6o6WxE0cOKnC8qBYniupQfqzBKX33/AK8cdWkBIyZnIgxU5Jw9XVS\n",
    "hEbyY5f8cpw53oKsF47it+1VpKUMCtYagM2zF0te5mfghiNYLFYoTjbjRFEtGqpV0HTq0KXWQdPZ\n",
    "C02nDt1qHXq1RvgHekMS7AtJiB8Cg30hCfGFJNgXicMiMHpyElJGRtL05ctw4IfTWCMrQm2F43UD\n",
    "SZKQGnGcVVkoer0Bv/12CMXFJRCG3IPFT95AWhKjEYmEGDE2FiPGcqu+ItOYOX84jh9TQJetQ0eT\n",
    "kVXLAlYYgNVqRXFxCXJz86DX24/BPvjnD7h+7hjEp9CEDgpZKo41YM2/fobZZIEkIBiRgVK0K9kR\n",
    "uMb4s5qamlqsWyfHrl17f3/4AUDfa8Tzy3MIKqNQ7CcDsqXy309iuns6cVpZBN9IPSQhvoTVXRnG\n",
    "GoBa3Yn//GcbNm/eApWq/7VV0YEz+OrT/e4VRqGcx6rXf0ZlmfIPX1e21qKusxih8WJ4+TC32S3j\n",
    "lgBGoxGHDuWjqKgYVuuV11L/ln2PmXNGIy6ZLgUo7qXiWAPWZv56yddtNhsUDcfh4+WDhIQ0qBr1\n",
    "bjmmdQTGzABsNhtKSsqwevU6FBQcGdDDDwA6rREvPPili9VRKBdy8dT/cuiNelTWHwUCOxAaxazj\n",
    "a0bMAOrrG7B79z60trYN6vsL9p3GplUHsGjlTCcro1D651JT/8vR0dWKDrQiIXoYbDp/aLvJ53UQ\n",
    "NYDu7m7s2XMAlZWnhzzWe89uw4zZo2n3HYrLOVXSeNmp/5Wobz4DkUiM1ISr0NVihamPXBcsIksA\n",
    "k8mEAwdysXZttlMefoAuBSjuwZGp/2XHsZhxur4UOnEdIuLILQvcbgDHj5/E6tXrkJd3GGazc53v\n",
    "8N5KbPr8oFPHpFDOZ9XrP+NUaaPTxtPqNKhsLIJnmAbB4e5vI++2JYBS2Yzdu/eiqanZpdd57x9b\n",
    "MX5aslM6zFAo51Ow7/SQpv6Xo1WlBKBEStwoGDu9oOs1uuQ6F+PyGUBPjxbbt/+EnJyvXP7wA/al\n",
    "wKNzP0NLQ6fLr0XhD1XlzXhiwWqXp15XN1agva8CEQk+EIld/njahABcksFgNptx6FA+1qxZh5Mn\n",
    "K1xxiUvS1tSNR+Z8xsoyWhTmoWrR4OHZn6KnS++W6/WZjKisL4bZtxnhMa7bHxB7iDqFAJy3oDlL\n",
    "RUUl1q5dj4MHD8FkItPZ5/RxJZ68aw2rEjMozMOg68Nj81ahqU7t9mt3adQ43VQE30iDS8KKPTxE\n",
    "dUIADc4asLW1DRs3bsb33+9Adzf5klX5u0/hpYc3kpZBYSlWqw1/vW8dThypI6pD2Vrzv7Bib+eF\n",
    "FYs9RJViOGEGoNPpsH//bygrOwGbjVmhjluz8xGXHIbHXpxNWgqFZbz55DfYt6OMtAwA54cV+yIh\n",
    "Pg0qpW7IYcViD9FxMYYwA7BYLCgqKkZeXj6MxqFXnnEVn7z8I2KTw3C7k9tPU7jLhn/vxtefHSAt\n",
    "4w/ojTpUNhxBaHAUQr3i0dEy+LRjkUhYPGgDOHOmCnv27ENnZ9egBbgLm82GFx78ElFxQZhy/XDS\n",
    "cigMZ+d3x/DuM1tJy7gsHZ0t6EALEmOGw6r1c3jD28NTZPssb45SCMChUDyVSoVNm/6DLVu2seLh\n",
    "P4epz4wnFqxBVQV3yjpTnE/p4Ro8uzibcVl7l6Ku6TSaeo8jPMELHg5UZPYP9NEB9jiAQgBXrGqo\n",
    "1xuwc+ceZGXJUVtLdlNksGg6dXhk9qdoqOZekwfK0DlV0oiVt6+CQU/m5Gqw2MOKS6DzrB9wWHFY\n",
    "ZOBuABBmZEptALIv9Uar1YojR4qxZk0Wjh49xrhNPkdR1nZg0TXvEt/ZpTCL/N2nsHjm+1C3s6OU\n",
    "V39oe+1hxV5hPQgOu3RYsVAogH+gzz+As9X15TJFLIB6XBQZWFNTi927912yIg+b8fX3wgffPoQZ\n",
    "t11FWgqFMDu+KsTzy78kmpXnClLi0mDo9IC+98IN+uj4EOXWhsVxwNkHPiNTqgSw89wbBlKOi+3o\n",
    "tEY8Pv9zbM3OJy2FQpB17+zEc0s2cO7hB4DqxnJ0mE7Zw4rPa9UWEh7wxbm/n58MtM5oNP7JkXJc\n",
    "bMdssuCFB79Ea2MnjRPgGTabDZlP/wdffryPtBSXYuyzhxUHBYYgwj8V2m6TxcfXM/Pc6+cbwPbN\n",
    "m7f0NjU1uz8nkSA2mw0fv7QDrcouvLRqEYRC2gCD65j6zHh28Qb88u1R0lLcRpdGjS6NGhPGTdry\n",
    "Se7s39cEF9ztGVOz5hUXl24nFb9PmhtvH4v3N6+AN4OruFKGRk+3Hn+5YzUK9zunEA2biIuLbd7d\n",
    "+OIF/dov2PSTF6zYkZY28nP3ymIOe7eXYdmsD9HV0UtaCsUFtCq78Ofr3uflwx8QEGBOSIiffvHX\n",
    "+53vzk55u7y6umaU62Uxk6Thkfh02yNITYsmLYXiJI7lVeNvi9ahud79WX2kEYlEmDhx/OIvix76\n",
    "Q2ZcvxUHYmKip4WGhrgn+ZmB1J5uxV2TMrH+vV2sj3vgO2aTBe8/tw2LZ7zPy4cfAEaNGrm5v4cf\n",
    "uMQMAACWTls/o6Li1K7ubo2n66Qxn0nXSZG5IYP2IGQhlWVKPLs42+Hy3Vxi2LDU4h1nnpl0qdcv\n",
    "u+W9/Jrs6MbGpsP19Q0JzpfGHnz9vfDMuwtw36MzSEuhDACr1Yast/+Lz179CX1G7p3vDwRPTw9b\n",
    "WtqoDzeXrPzr5d43oDOvu0d/sqmi4tR9Fotr66ExnfRb0/DGusWIjA0iLYVyCeqr2vHckg04lldN\n",
    "WgoxQkND9FJp6jx5wYN7rvTeAR96L578xf2Vlac3aDQ9vD4jCwz2xfMfL6S1BRjIps8P4r1/bIVO\n",
    "656KukwkNTW5PDo6enpW7pIBleRyKOpl+TXZsU1Nzb/V1tYnD04ed7h5wQS8svp+hIQzq9cbH2lr\n",
    "6sbzy3OQ+99y0lKI4ePjbR0xYvhnm0tWPunI9w0q7O3PV699tLa27j2VqoNXUYMXExoRgL+/swC3\n",
    "L55KIwgJYDSYsGnVAax+81d0q/kZuyEUCpGamnIkPDxswfq8pQ4X9xn0XbsiPUeo0Wi+UCiql+p0\n",
    "OsZ0GSZB0vBIPPbibMy9fzI1Ajdg6jPj27W5WJv5K9qauknLIUZsbExrXFzsEnnBgzuv/O7+GfLd\n",
    "uvya7GiVqmNrVVXNNL5vEqaMjMLKl2Zj9n1XQyCgRuBsLGYrvlufh9Vv/sLbM30ACAqSGFNSkl/7\n",
    "uvjRfw11LKfdpRlT192gVDZ91dio5H34nPSqaDz+8lz86Z6JpKVwAqvVhu1fFmDVaz/xupqTl5eX\n",
    "bdiw1G1BQUEPZOUucUrXG6d/TD0wac3fampq31CrO72dPTbbGDE2Fo+/PAc3L5hAWgorsdls+Hnz\n",
    "EXz26k+oqWwlLYcYAoEAKSnJJyIjIxasz1t6xqljO3Owc6xIz/Hs6uqWKxRVCw0GA+/nwiPHx+Ev\n",
    "r8zFrPnjSEthBVarDbu3leDTV37EmRNNpOUQJTo6Sh0fH/dgTuGK710xvksfzuXXbEhua2vfVlVV\n",
    "PY7G1APJIyIxZ9FkzL1/MhKHRZCWwzhOHKnDjq8K8fPmI1C1kO8sRZLAwABTamrKe5uOPfZPV17H\n",
    "LZ/OS6ZkzWlsVG5oamqmAfWwT+nSJsZj7v2TMfu+yYiIkZCWRIzGGhV2bCzEjq8KeT3NP4eHh4dt\n",
    "2LDUX0JCQhZm5S5xeYVSt07P75+4+pWqqmoZ3xOMzkckEmLSdVLMWTQZf7pnIgKDnd8Ekml0dfTi\n",
    "l2+OYMdXhSjJr6EZl2dJTk46HRUVeVd2/rIT7rqm29fnK9JzfNXqzs0KRdXcvr4+3u8PnI+Hpxjp\n",
    "t6ZhzqKrMWv+OHj7cscnjQYT9v5Qiu0bC3FoZwUni3AOlsjICE1CQvxjXxY99LW7r03sAVw2PXtk\n",
    "a2vbVj4XHrkcvv5emJQuxejJiRh9dSLGTE5EeDR7lgoN1SqUFdSgrKAWpQU1OFXSCKOBn6XmLoW/\n",
    "v785NTX5s29KH3+alAbin8BLpmQtrKurX93a2kZT7K5AZGzQeYaQhDGTExmxZOjp0qOssBZlBTUo\n",
    "LajB8cJaVjfYcDVisRhSaeq+sLDQu7NylxCNaCJuAOe4b/yq96qqqp/q6dGKr/xuCmDfTIxLDsXo\n",
    "s2YwanwcgsMDIAn2RWCwL3z9vZxyHZvNhq6OXnSqtOhUadGl6kVLYyeOF9WhrKAGdWfaWNNLjzSJ\n",
    "iQm1MTFR92bnLy8irQVgkAEAwIr0nKCOjo7/KBTVN/G1MrEz8fAUIzDIB4HBvpCE+Nn/e9Hf/SU+\n",
    "sNls6Fafe8B70XX2QT/3p6dLD4uF+30iXElYWGhvUlLi3zYeeXgNaS3nwygDOMfSaesntLS0bKmt\n",
    "rU8hrYVCGQp+fr7W1NSU7MDAwIezcpcwzkUZaQDnWDx57fLa2vqP2ttVNOmewipEIhGk0pT8kJCQ\n",
    "O7PzlzE2wIHRBgCcSzvuWVVVVbWit1c38AboFAoh4uPjmmJjYxZtOLz8IGktV4LxBnCOFek5Ee3t\n",
    "7VsViupr+Z52TGEmISHBhuTkpH9+dfSRD0hrGSisMYBzLJ22Pl2pbNrU0NAYR1oLhQIA3t7e1mHD\n",
    "Ur+RSCRLs3KX9F35O5gD6wzgHA9MWvNkTU3tW2p1pw9pLRR+Yi/HlXwsPDz8zvV5S+tI6xkMrDUA\n",
    "AFiRniPu7u7OViiq7tfrDbwuS0ZxLzEx0e3x8XFL5AUP/kpay1BgtQGcY/k1G+Lb29u3VVXVTLJa\n",
    "GXfSQuEQQUGSvpSU5De+Ln70ddJanAEnDOAcGVPX3dLYqPxSqWyiyfYUp+Ll5WmTSlN/CA4OfiAr\n",
    "d4mOtB5nwSkDOMf9E1e/UF1d82JXVzd30ukoRLCX40oqj4gIvzM7fznn+opz0gAAYEV6jndnZ9fX\n",
    "CkXVHUajkbP/TorriIqK7ExIiH84p3DFFtJaXAXnH4zl12wY1trauq26uvYqWniCMhACAwNMKSnJ\n",
    "/95csvI50lpcDecN4BxLpmQtqK9vyGppaQ0mrYXCTM6W49oZEhJy70B767Ed3hjAOe4bv+qt6uqa\n",
    "v/K9ySnlQpKTE6uioqLuzs5fVkJaizvhnQEAwIr0nEC1Wv3tmTNVt5hMJl7+DCh2IiLCexITE574\n",
    "sughOWktJOD1zb9sevbYlpaW72pq6qSktVDci7+/nyU1NWX1N6WP/4W0FpLw2gDOsXjyF4vr6uo/\n",
    "a2trDyCtheJa7OW4Ug6GhYXdlZW7hL99xs5CDeA8Fo777JOqqurHtNpemnbMQRIS4utjYqIWbjj8\n",
    "4GHSWpgCNYCLWJGeE6ZSqbYoFNUzzWZaupoLhIaG6JKTk57ZeOThVaS1MA1qAJdg6bR105qaWr6p\n",
    "r29IIK2FMjh8fX2sqampcokk8OGs3CXUzfuBGsAV+PPVa1fW1NS+29GhJl9/mzIghEIhpNKUgrCw\n",
    "0DvX5y1rJq2HyVADGAD2tGPN2qqqqgydTk/TjhlMXFxsS2xszP3yggf3kdbCBqgBOMDya7Jj29s7\n",
    "tlZVVU+hacfMIjg4yJCSkvziV0cfeY+0FjZBDWAQZExdN0upbNrY2KiMIq2F73h7e9uk0pRvg4KC\n",
    "lrCtHBcToAYwBB6YtOYf1dU1r3V2djmnBQ9lwAgEAqSmppRGRITfuT5vaQ1pPWyFGsAQWZGe49nV\n",
    "1bVRoai622CgacfuICYmWhUXF7s0p3DFT6S1sB16wzqJ5ddsSG1ra/uuqqpmHE07dg0SSWBfSkry\n",
    "W5uOPfYyaS1cgRqAk8mYmjWvoUGZ3dTUHEpaC1fw9PS0SaWpP4aEBN/HpXJcTIAagItYNOHz16ur\n",
    "a57t7tbQtOMhkJKSXBEZGbEgO3/ZKdJauAg1ABeyIj3HX61Wb1Ioqub09dG0Y0eIjIzoSkxMeDSn\n",
    "cMU3pLVwGXpTuoFl07PTzpYlG05aC9MJCPA3p6amfLS5ZOXfSWvhA9QA3MiSKVmL6urqP29tbZOQ\n",
    "1sI0PDw8IJWm7A4NDb0nK3dJF2k9fIEaAAHuG7/qA4Wi+i9arVZMWgsTSEpKrIqKirxnw+Hlx0hr\n",
    "4RvUAAixIj0nRKXq2KJQVN3A17Tj8PBwbVJSwpNfFj2UTVoLX6EGQJhl09dPbmpq+baurj6JtBZ3\n",
    "4efnZ5FKU74ICAh4PCt3CU2qIAg1AIbw56vXPlRbW/eBStXhR1qLqxCJRJBKU3PDw8Puyspd0kZa\n",
    "D4UaAKNYkZ4j1Gg0a6qqqpf39uo4lXackBDfGBMTvXDD4eV5pLVQ/gc1AAaybHp2pFqt3qZQVE+3\n",
    "WCyk5QyJ0NAQfXJy0rMbjzz8CWktlD9CDYDBLJ22foZS2bSpoaExhrQWR/Hx8bFKpSkbJRLJg7Qc\n",
    "F3OhBsACHpi05v9qamr/pVZ3epPWciWEQiFSU1OKwsND71yft0xJWg/l8lADYAkr0nM8u7u7N5w5\n",
    "U7XQYDAwcn8gLi62NTY25gF5wYN7SGuhDAxqACxj+TUbEtvb27dVVdVMYEpZsuDgIGNKStKrXx19\n",
    "NJO0FopjUANgKRlT181uaGiUNzU1h5HS4O3tZZNKU7ecLcdlIKWDMnioAbCc+yeufrm6uuafXV3d\n",
    "nu66pkAgQEpKcllkZMSC9XlLq9x1XYrzoQbAAVak5/hqNJoPGhuVS1y5USgUCpGQEFcbGRnxtLxg\n",
    "xQ+uug7FfVAD4BgPTFrzj+bmlmecuTTw9fWxJiTE5wYHBz+Rnb+szFnjUshDDYCjZEzNmt/Wpnqn\n",
    "vr5h+GCDicLCQnUxMdEbAwMD/5aVu0TrZIkUBkANgOMsm5490mg0LjQYjJMMBv1wrbY3WqPRBJxf\n",
    "wVgkEiEgwL/Pz8+vy8fHu9nLy7va19fn5y+LHsoiqZ3ieqgB8JRl07PTzGbzVLFYdEIkEh+lWXn8\n",
    "5P8BA4FJDUx3CFkAAAAASUVORK5CYII=\n",
    "\"\n",
    "     alt=\"C# Logo\" style=\"display:block;margin:auto;width:5%\"/>\n",
    "<br>\n",
    "\n",
    "<div style=\"text-align:center; font-size:200%;\">\n",
    " <b>Arbeiten mit Notebooks</b>\n",
    "</div>\n",
    "<br/>\n",
    "<div style=\"text-align:center; font-size:120%;\">Dr. Matthias Hölzl</div>\n",
    "<br/>\n",
    "<div style=\"text-align:center;\">Coding-Akademie München</div>\n",
    "<br/>"
   ]
  },
  {
   "cell_type": "markdown",
   "id": "5eb10b69d781cd4a",
   "metadata": {
    "lang": "de",
    "lines_to_next_cell": 2,
    "slideshow": {
     "slide_type": "subslide"
    },
    "tags": [
     "subslide"
    ]
   },
   "source": [
    "\n",
    "# Starten der Notebooks\n",
    "\n",
    "- Video \"Docker für Notebooks\", wenn Sie Notebooks in Docker verwenden wollen\n",
    "- [.Net\n",
    "  Interactive](https://github.com/dotnet/interactive/blob/main/docs/NotebookswithJupyter.md)\n",
    "  für die Installation auf Ihrem Rechner"
   ]
  },
  {
   "cell_type": "markdown",
   "id": "14259f2f878899a2",
   "metadata": {
    "lang": "de",
    "slideshow": {
     "slide_type": "slide"
    },
    "tags": [
     "slide"
    ]
   },
   "source": [
    "\n",
    "# Notebooks\n",
    "\n",
    "- Notebooks erlauben interaktives Arbeiten mit Code und Text\n",
    "- Diese Art zu Arbeiten ist bei C# nicht so verbreitet\n",
    "- Für Schulungen ist sie aber hervorragend geeignet"
   ]
  },
  {
   "cell_type": "markdown",
   "id": "9c64f7fd1ee060f5",
   "metadata": {
    "lang": "de",
    "slideshow": {
     "slide_type": "subslide"
    },
    "tags": [
     "subslide"
    ]
   },
   "source": [
    "\n",
    "## Arbeiten mit Notebooks\n",
    "\n",
    "- Der Notebook-Server zeigt uns eine Liste der Dateien im aktuellen\n",
    "  Verzeichnis\n",
    "- Durch Anklicken einer Notebook-Datei können wir sie öffnen\n",
    "- Notebooks sind in Zellen aufgeteilt\n",
    "- Zellen können entweder Text oder C# Code enthalten\n",
    "- Im Gegensatz zu C# Programmen, können Zellen auch Ausdrücke enthalten\n",
    "- Wenn die Zelle ausgeführt wird, werden die Ausdrücke ausgewertet und das\n",
    "  Ergebnis angezeigt"
   ]
  },
  {
   "cell_type": "code",
   "execution_count": null,
   "id": "602bdc204140db01",
   "metadata": {},
   "outputs": [],
   "source": [
    "123"
   ]
  },
  {
   "cell_type": "code",
   "execution_count": null,
   "id": "79a590bd4f92d6e4",
   "metadata": {},
   "outputs": [],
   "source": [
    "17 + 4"
   ]
  },
  {
   "cell_type": "markdown",
   "id": "0d87f1d201f629c8",
   "metadata": {
    "lang": "de",
    "slideshow": {
     "slide_type": "subslide"
    },
    "tags": [
     "subslide"
    ]
   },
   "source": [
    "\n",
    "- Zellen können auch Anweisungen enthalten, z.B. Funktionsdefinitionen\n",
    "- Beim Ausführen einer Zelle, in der eine Funktion definiert wird, wird die\n",
    "  Funktion für den Rest des Notebooks verfügbar gemacht"
   ]
  },
  {
   "cell_type": "code",
   "execution_count": null,
   "id": "5fa5704e1a5c8bd6",
   "metadata": {
    "tags": [
     "keep"
    ]
   },
   "outputs": [],
   "source": [
    "using System;\n",
    "\n",
    "void SayHello(string name)\n",
    "{\n",
    "    Console.WriteLine($\"Hello {name}!\");\n",
    "}"
   ]
  },
  {
   "cell_type": "code",
   "execution_count": null,
   "id": "582c6e1805eab08d",
   "metadata": {},
   "outputs": [],
   "source": [
    "SayHello(\"World\");"
   ]
  },
  {
   "cell_type": "code",
   "execution_count": null,
   "id": "418e9150a2d7133a",
   "metadata": {},
   "outputs": [],
   "source": [
    "SayHello(\"you\");"
   ]
  },
  {
   "cell_type": "markdown",
   "id": "5185da79646fe491",
   "metadata": {
    "lang": "de",
    "slideshow": {
     "slide_type": "subslide"
    },
    "tags": [
     "subslide"
    ]
   },
   "source": [
    "\n",
    "- Das gleiche gilt für Structs und Klassen:"
   ]
  },
  {
   "cell_type": "code",
   "execution_count": null,
   "id": "884b676c3384f0b3",
   "metadata": {
    "tags": [
     "keep"
    ]
   },
   "outputs": [],
   "source": [
    "public struct Point\n",
    "{\n",
    "    public int X { get; set; }\n",
    "    public int Y { get; set; }\n",
    "}"
   ]
  },
  {
   "cell_type": "code",
   "execution_count": null,
   "id": "5431a386f7b7b291",
   "metadata": {},
   "outputs": [],
   "source": [
    "var p = new Point { X = 1, Y = 2 };"
   ]
  },
  {
   "cell_type": "code",
   "execution_count": null,
   "id": "74b48ea1a65f8d5f",
   "metadata": {},
   "outputs": [],
   "source": [
    "p.X"
   ]
  },
  {
   "cell_type": "code",
   "execution_count": null,
   "id": "ba4ae3303cb2b9e3",
   "metadata": {},
   "outputs": [],
   "source": [
    "p.Y"
   ]
  },
  {
   "cell_type": "markdown",
   "id": "4eeaaa51cd686d77",
   "metadata": {
    "lang": "de",
    "slideshow": {
     "slide_type": "subslide"
    },
    "tags": [
     "subslide"
    ]
   },
   "source": [
    "\n",
    "- Es gibt zwei Modi: Kommando- und Edit-Modus (`Esc` / `Enter`)\n",
    "- Einige Tastaturkürzel:\n",
    "  - `Strg`-`Enter`\n",
    "  - `Shift`-`Enter`\n",
    "  - (`Tab`)\n",
    "  - (`Shift-Tab`)"
   ]
  },
  {
   "cell_type": "code",
   "execution_count": null,
   "id": "72a31edfb7ab7f05",
   "metadata": {
    "slideshow": {
     "slide_type": "subslide"
    },
    "tags": [
     "subslide"
    ]
   },
   "outputs": [],
   "source": [
    "123"
   ]
  },
  {
   "cell_type": "code",
   "execution_count": null,
   "id": "8559820a8d8c0b41",
   "metadata": {},
   "outputs": [],
   "source": [
    "17 + 4"
   ]
  },
  {
   "cell_type": "code",
   "execution_count": null,
   "id": "56b7d79a4ce3293c",
   "metadata": {},
   "outputs": [],
   "source": [
    "int answer = 42;"
   ]
  },
  {
   "cell_type": "code",
   "execution_count": null,
   "id": "0bca999ae82148ee",
   "metadata": {},
   "outputs": [],
   "source": [
    "answer"
   ]
  }
 ],
 "metadata": {
  "jupytext": {
   "cell_metadata_filter": "tags,lang,-all",
   "encoding": "// -*- coding: utf-8 -*-",
   "main_language": "csharp",
   "notebook_metadata_filter": "-all"
  },
  "kernelspec": {
   "display_name": ".NET (C#)",
   "language": "C#",
   "name": ".net-csharp"
  },
  "language_info": {
   "file_extension": ".cs",
   "mimetype": "text/x-csharp",
   "name": "C#",
   "pygments_lexer": "csharp",
   "version": "12.0"
  }
 },
 "nbformat": 4,
 "nbformat_minor": 5
}
