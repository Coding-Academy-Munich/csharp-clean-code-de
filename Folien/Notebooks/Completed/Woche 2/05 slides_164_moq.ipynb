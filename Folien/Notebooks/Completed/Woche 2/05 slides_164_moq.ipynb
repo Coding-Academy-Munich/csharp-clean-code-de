{
 "cells": [
  {
   "cell_type": "markdown",
   "id": "b069d49ce7b43c89",
   "metadata": {
    "lang": "de",
    "slideshow": {
     "slide_type": "slide"
    },
    "tags": [
     "slide"
    ]
   },
   "source": [
    "**Mocking mit Moq**"
   ]
  },
  {
   "cell_type": "markdown",
   "id": "2e780f51290d8608",
   "metadata": {
    "lang": "de",
    "slideshow": {
     "slide_type": "subslide"
    },
    "tags": [
     "subslide"
    ]
   },
   "source": [
    "\n",
    "# Das Moq Mocking Framework (für C#)\n",
    "\n",
    "- [Moq](https://github.com/moq/moq4) ist ein Mocking-Framework für C#\n",
    "- Ermöglicht das Erstellen von Mock-Objekten"
   ]
  },
  {
   "cell_type": "code",
   "execution_count": null,
   "id": "6d72672c2803628d",
   "metadata": {
    "slideshow": {
     "slide_type": "subslide"
    },
    "tags": [
     "keep",
     "subslide"
    ]
   },
   "outputs": [],
   "source": [
    "#r \"nuget: Moq, 4.17\"\n",
    "#r \"nuget: xunit, *\""
   ]
  },
  {
   "cell_type": "code",
   "execution_count": null,
   "id": "c26f9b16871ad3ed",
   "metadata": {
    "tags": [
     "keep"
    ]
   },
   "outputs": [],
   "source": [
    "#load \"XunitTestRunner.cs\""
   ]
  },
  {
   "cell_type": "markdown",
   "id": "fc640814aaf534ba",
   "metadata": {
    "lang": "de",
    "slideshow": {
     "slide_type": "subslide"
    },
    "tags": [
     "subslide"
    ]
   },
   "source": [
    "\n",
    "## Beispiel: Mocken einer Liste\n",
    "\n",
    "- Erstellen eines Mock-Objekts für eine Liste\n",
    "- Implementiert alle Methoden des `IList`-Interfaces\n",
    "- Kann verwendet werden, um Methodenaufrufe zu überprüfen"
   ]
  },
  {
   "cell_type": "code",
   "execution_count": null,
   "id": "87667398dddb57a4",
   "metadata": {
    "tags": [
     "keep"
    ]
   },
   "outputs": [],
   "source": [
    "using Moq;\n",
    "using System.Collections.Generic;"
   ]
  },
  {
   "cell_type": "code",
   "execution_count": null,
   "id": "f15a0e7bfe7c5139",
   "metadata": {},
   "outputs": [],
   "source": [
    "var mockedList = new Mock<IList<string>>();"
   ]
  },
  {
   "cell_type": "code",
   "execution_count": null,
   "id": "ab5d3e3aa571d6e0",
   "metadata": {},
   "outputs": [],
   "source": [
    "mockedList.Object.Add(\"Hello!\");"
   ]
  },
  {
   "cell_type": "code",
   "execution_count": null,
   "id": "456a7eeb34a83be5",
   "metadata": {
    "slideshow": {
     "slide_type": "subslide"
    },
    "tags": [
     "subslide",
     "keep"
    ]
   },
   "outputs": [],
   "source": [
    "mockedList.Verify(list => list.Add(\"Hello!\"));"
   ]
  },
  {
   "cell_type": "code",
   "execution_count": null,
   "id": "010208fc9332b0d3",
   "metadata": {},
   "outputs": [],
   "source": [
    "mockedList.Verify(list => list.Add(\"Hello!\"));"
   ]
  },
  {
   "cell_type": "code",
   "execution_count": null,
   "id": "3f51adc2999d2665",
   "metadata": {},
   "outputs": [],
   "source": [
    "// mockedList.Verify(list => list.Add(\"World!\"));"
   ]
  },
  {
   "cell_type": "markdown",
   "id": "4aeaa64b2fa8949a",
   "metadata": {
    "lang": "de",
    "slideshow": {
     "slide_type": "subslide"
    },
    "tags": [
     "subslide"
    ]
   },
   "source": [
    "\n",
    "- Überprüfen der Anzahl der Aufrufe:"
   ]
  },
  {
   "cell_type": "code",
   "execution_count": null,
   "id": "09cf45f7624f588d",
   "metadata": {
    "tags": [
     "keep"
    ]
   },
   "outputs": [],
   "source": [
    "var mockedListCount = new Mock<IList<string>>();"
   ]
  },
  {
   "cell_type": "code",
   "execution_count": null,
   "id": "f46d7aedd2025bd2",
   "metadata": {},
   "outputs": [],
   "source": [
    "mockedListCount.Object.Add(\"Hello!\");"
   ]
  },
  {
   "cell_type": "code",
   "execution_count": null,
   "id": "f25b792b5dfba4e2",
   "metadata": {},
   "outputs": [],
   "source": [
    "mockedListCount.Verify(list => list.Add(\"Hello!\"));"
   ]
  },
  {
   "cell_type": "code",
   "execution_count": null,
   "id": "9a3cf2e8e2b212e4",
   "metadata": {},
   "outputs": [],
   "source": [
    "mockedListCount.Object.Add(\"Hello!\");"
   ]
  },
  {
   "cell_type": "code",
   "execution_count": null,
   "id": "8c76bd8786699396",
   "metadata": {},
   "outputs": [],
   "source": [
    "mockedListCount.Verify(list => list.Add(\"Hello!\"));"
   ]
  },
  {
   "cell_type": "code",
   "execution_count": null,
   "id": "385a9e314dcbaceb",
   "metadata": {},
   "outputs": [],
   "source": [
    "mockedListCount.Verify(list => list.Add(\"Hello!\"), Times.Exactly(2));"
   ]
  },
  {
   "cell_type": "markdown",
   "id": "5eec1d53d6e6461d",
   "metadata": {
    "lang": "de",
    "slideshow": {
     "slide_type": "subslide"
    },
    "tags": [
     "subslide"
    ]
   },
   "source": [
    "\n",
    "- Überprüfen, dass eine Methode nicht aufgerufen wurde:"
   ]
  },
  {
   "cell_type": "code",
   "execution_count": null,
   "id": "4fbcc8b91e32a253",
   "metadata": {
    "tags": [
     "keep"
    ]
   },
   "outputs": [],
   "source": [
    "var mockedListNever = new Mock<IList<string>>();"
   ]
  },
  {
   "cell_type": "code",
   "execution_count": null,
   "id": "9385484655032e52",
   "metadata": {},
   "outputs": [],
   "source": [
    "mockedListNever.Verify(list => list.Clear(), Times.Never);"
   ]
  },
  {
   "cell_type": "markdown",
   "id": "c0225c4ff75a9a3d",
   "metadata": {
    "lang": "de",
    "slideshow": {
     "slide_type": "subslide"
    },
    "tags": [
     "subslide"
    ]
   },
   "source": [
    "\n",
    "- Argument Matcher:\n",
    "  - `It.IsAny<T>()`, `It.IsAny<string>()`, ...\n",
    "  - `It.IsNull()`, `It.EndsWith()`, `It.Is<T>(...)`, ..."
   ]
  },
  {
   "cell_type": "code",
   "execution_count": null,
   "id": "eb4d0969afc72066",
   "metadata": {
    "slideshow": {
     "slide_type": "subslide"
    },
    "tags": [
     "keep",
     "subslide"
    ]
   },
   "outputs": [],
   "source": [
    "var mockedListMatchers = new Mock<IList<string>>();\n",
    "mockedListMatchers.Object.Add(\"Hello!\");"
   ]
  },
  {
   "cell_type": "code",
   "execution_count": null,
   "id": "241859d916707ffa",
   "metadata": {},
   "outputs": [],
   "source": [
    "mockedListMatchers.Verify(m => m.Add(It.IsAny<string>()));"
   ]
  },
  {
   "cell_type": "code",
   "execution_count": null,
   "id": "dca049f2f35c852c",
   "metadata": {},
   "outputs": [],
   "source": [
    "mockedListMatchers.Verify(m => m.Add(It.IsNotNull<string>()));"
   ]
  },
  {
   "cell_type": "code",
   "execution_count": null,
   "id": "2e36f060fb4381e6",
   "metadata": {},
   "outputs": [],
   "source": [
    "mockedListMatchers.Verify(m => m.Add(It.Is<string>(s => s.EndsWith(\"lo!\"))));"
   ]
  },
  {
   "cell_type": "code",
   "execution_count": null,
   "id": "76fa691dd30bff02",
   "metadata": {},
   "outputs": [],
   "source": [
    "// mockedListMatchers.Verify(m => m.Add(It.Is<string>(s => s.StartsWith(\"No\"))));"
   ]
  },
  {
   "cell_type": "code",
   "execution_count": null,
   "id": "74d704a26915f6dc",
   "metadata": {
    "slideshow": {
     "slide_type": "subslide"
    },
    "tags": [
     "keep",
     "subslide"
    ]
   },
   "outputs": [],
   "source": [
    "var mockedListIsNull = new Mock<IList<string>>();\n",
    "mockedListIsNull.Object.Add(null);"
   ]
  },
  {
   "cell_type": "code",
   "execution_count": null,
   "id": "054c8132a2ad1091",
   "metadata": {},
   "outputs": [],
   "source": [
    "mockedListIsNull.Verify(m => m.Add(null));"
   ]
  },
  {
   "cell_type": "markdown",
   "id": "977fc0b13b505bfb",
   "metadata": {
    "lang": "de",
    "slideshow": {
     "slide_type": "subslide"
    },
    "tags": [
     "subslide"
    ]
   },
   "source": [
    "\n",
    "- Mindest- und Maximalanzahl von Aufrufen:"
   ]
  },
  {
   "cell_type": "code",
   "execution_count": null,
   "id": "ac155e07873f6a50",
   "metadata": {
    "tags": [
     "keep"
    ]
   },
   "outputs": [],
   "source": [
    "var mockedListLimits = new Mock<IList<string>>();"
   ]
  },
  {
   "cell_type": "code",
   "execution_count": null,
   "id": "5d9f4d10225cdde6",
   "metadata": {
    "tags": [
     "keep"
    ]
   },
   "outputs": [],
   "source": [
    "mockedListLimits.Object.Add(\"Once!\");\n",
    "mockedListLimits.Object.Add(\"Twice!\");\n",
    "mockedListLimits.Object.Add(\"Twice!\");\n",
    "mockedListLimits.Object.Add(\"Three times!\");\n",
    "mockedListLimits.Object.Add(\"Three times!\");\n",
    "mockedListLimits.Object.Add(\"Three times!\");"
   ]
  },
  {
   "cell_type": "code",
   "execution_count": null,
   "id": "8fa28f2d15218f4a",
   "metadata": {},
   "outputs": [],
   "source": [
    "mockedListLimits.Verify(m => m.Add(\"Once!\"), Times.AtLeastOnce());"
   ]
  },
  {
   "cell_type": "code",
   "execution_count": null,
   "id": "918fa82b136e5df6",
   "metadata": {},
   "outputs": [],
   "source": [
    "mockedListLimits.Verify(m => m.Add(\"Twice!\"), Times.AtLeastOnce());"
   ]
  },
  {
   "cell_type": "code",
   "execution_count": null,
   "id": "a4f0b54f2b19d0e8",
   "metadata": {},
   "outputs": [],
   "source": [
    "mockedListLimits.Verify(m => m.Add(\"Twice!\"), Times.AtLeast(2));"
   ]
  },
  {
   "cell_type": "code",
   "execution_count": null,
   "id": "6bd9aa328482a216",
   "metadata": {},
   "outputs": [],
   "source": [
    "mockedListLimits.Verify(m => m.Add(\"Three times!\"), Times.AtMost(3));"
   ]
  },
  {
   "cell_type": "markdown",
   "id": "993a9bd0600583e2",
   "metadata": {
    "lang": "de",
    "slideshow": {
     "slide_type": "subslide"
    },
    "tags": [
     "subslide"
    ]
   },
   "source": [
    "\n",
    "## Stubbing\n",
    "\n",
    "- Manchmal ist es notwendig, das Verhalten eines Mock-Objekts zu definieren\n",
    "- Mit `Setup()` und `Returns()` und `Throws()` kann das Verhalten festgelegt werden"
   ]
  },
  {
   "cell_type": "code",
   "execution_count": null,
   "id": "bc4e75c8f8dae161",
   "metadata": {
    "slideshow": {
     "slide_type": "subslide"
    },
    "tags": [
     "keep",
     "subslide"
    ]
   },
   "outputs": [],
   "source": [
    "var mockedListStub = new Mock<IList<string>>();"
   ]
  },
  {
   "cell_type": "code",
   "execution_count": null,
   "id": "4ef04cf5b9f62563",
   "metadata": {},
   "outputs": [],
   "source": [
    "mockedListStub.Setup(m => m[0]).Returns(\"Hello!\");"
   ]
  },
  {
   "cell_type": "code",
   "execution_count": null,
   "id": "f22b4cb45741384f",
   "metadata": {},
   "outputs": [],
   "source": [
    "mockedListStub.Setup(m => m[1]).Throws(new System.Exception(\"No Value!\"));"
   ]
  },
  {
   "cell_type": "code",
   "execution_count": null,
   "id": "9f7214057dc8bba9",
   "metadata": {},
   "outputs": [],
   "source": [
    "mockedListStub.Object[0]"
   ]
  },
  {
   "cell_type": "code",
   "execution_count": null,
   "id": "66d1c680dab7fef7",
   "metadata": {},
   "outputs": [],
   "source": [
    "// mockedListStub.Object[1];"
   ]
  },
  {
   "cell_type": "code",
   "execution_count": null,
   "id": "61fefe622ee9741d",
   "metadata": {},
   "outputs": [],
   "source": [
    "mockedListStub.Verify(m => m[0]);"
   ]
  },
  {
   "cell_type": "code",
   "execution_count": null,
   "id": "92d24ab8b1e16906",
   "metadata": {},
   "outputs": [],
   "source": [
    "// mockedListStub.Verify(m => m[1]);"
   ]
  },
  {
   "cell_type": "markdown",
   "id": "21ca4770ab9b33cf",
   "metadata": {
    "lang": "de",
    "slideshow": {
     "slide_type": "subslide"
    },
    "tags": [
     "subslide"
    ]
   },
   "source": [
    "\n",
    "## Verwendung von Moq in Tests\n",
    "\n",
    "- In xUnit-Tests können Mock-Objekte verwendet werden, um Abhängigkeiten zu simulieren\n",
    "- Die `Verify()`-Methode wirft eine Exception, wenn sie einen Fehler findet\n",
    "- Das führt zu einem fehlgeschlagenen Test"
   ]
  },
  {
   "cell_type": "code",
   "execution_count": null,
   "id": "75dd412eecbd0437",
   "metadata": {
    "slideshow": {
     "slide_type": "subslide"
    },
    "tags": [
     "keep",
     "subslide"
    ]
   },
   "outputs": [],
   "source": [
    "using Xunit;\n",
    "using Moq;\n",
    "\n",
    "public class ListTest {\n",
    "    [Fact]\n",
    "    public void TestList() {\n",
    "        var mockedList = new Mock<IList<string>>();\n",
    "\n",
    "        mockedList.Object.Add(\"Hello!\");\n",
    "\n",
    "        mockedList.Verify(m => m.Add(\"Hello!\"));\n",
    "    }\n",
    "\n",
    "    [Fact]\n",
    "    public void FailedTest() {\n",
    "        var mockedList = new Mock<IList<string>>();\n",
    "\n",
    "        mockedList.Object.Add(\"Hello!\");\n",
    "\n",
    "        mockedList.Verify(m => m.Add(\"World!\")); // This will fail\n",
    "    }\n",
    "}"
   ]
  },
  {
   "cell_type": "code",
   "execution_count": null,
   "id": "05d50fd9a6727b1b",
   "metadata": {
    "slideshow": {
     "slide_type": "subslide"
    },
    "tags": [
     "subslide"
    ]
   },
   "outputs": [],
   "source": [
    "XunitTestRunner.RunTests(typeof(ListTest));"
   ]
  },
  {
   "cell_type": "markdown",
   "id": "61948e3dbad033cd",
   "metadata": {
    "lang": "de",
    "slideshow": {
     "slide_type": "subslide"
    },
    "tags": [
     "subslide"
    ]
   },
   "source": [
    "\n",
    "## Workshop: Test eines Steuerungssystems für ein Raumschiff\n",
    "\n",
    "In diesem Workshop arbeiten Sie mit einem einfachen Steuerungssystem für ein\n",
    "Raumschiff. Das System interagiert mit verschiedenen Sensoren und einem\n",
    "Funksender. Ihre Aufgabe ist es, Tests für dieses System mit Moq zu\n",
    "schreiben.\n",
    "\n",
    "Hier ist eine einfache Implementierung unseres Raumschiff-Steuerungssystems:"
   ]
  },
  {
   "cell_type": "code",
   "execution_count": null,
   "id": "77db63123fce1ccc",
   "metadata": {
    "slideshow": {
     "slide_type": "subslide"
    },
    "tags": [
     "keep",
     "subslide"
    ]
   },
   "outputs": [],
   "source": [
    "public interface ITemperatureSensor {\n",
    "    double GetTemperature();\n",
    "}"
   ]
  },
  {
   "cell_type": "code",
   "execution_count": null,
   "id": "cb33da1a2e491164",
   "metadata": {
    "tags": [
     "keep"
    ]
   },
   "outputs": [],
   "source": [
    "public interface IFuelSensor {\n",
    "    double GetFuelLevel();\n",
    "}"
   ]
  },
  {
   "cell_type": "code",
   "execution_count": null,
   "id": "c29042d48dfa8e76",
   "metadata": {
    "tags": [
     "keep"
    ]
   },
   "outputs": [],
   "source": [
    "public interface IRadioTransmitter {\n",
    "    void Transmit(string message);\n",
    "}"
   ]
  },
  {
   "cell_type": "code",
   "execution_count": null,
   "id": "5b9e130c3ab2b197",
   "metadata": {
    "slideshow": {
     "slide_type": "subslide"
    },
    "tags": [
     "keep",
     "subslide"
    ]
   },
   "outputs": [],
   "source": [
    "public class SpacecraftControlSystem {\n",
    "    private readonly ITemperatureSensor _tempSensor;\n",
    "    private readonly IFuelSensor _fuelSensor;\n",
    "    private readonly IRadioTransmitter _radio;\n",
    "\n",
    "    public SpacecraftControlSystem(ITemperatureSensor tempSensor, IFuelSensor fuelSensor, IRadioTransmitter radio) {\n",
    "        _tempSensor = tempSensor;\n",
    "        _fuelSensor = fuelSensor;\n",
    "        _radio = radio;\n",
    "    }\n",
    "\n",
    "    public void CheckAndReportStatus() {\n",
    "        var temp = _tempSensor.GetTemperature();\n",
    "        var fuel = _fuelSensor.GetFuelLevel();\n",
    "\n",
    "        if (temp > 100) {\n",
    "            _radio.Transmit(\"Warning: High temperature!\");\n",
    "        }\n",
    "\n",
    "        if (fuel < 10) {\n",
    "            _radio.Transmit(\"Warning: Low fuel!\");\n",
    "        }\n",
    "\n",
    "        _radio.Transmit($\"Status: Temperature {temp}, Fuel {fuel}\");\n",
    "    }\n",
    "}"
   ]
  },
  {
   "cell_type": "markdown",
   "id": "2608fde4ca57cfc4",
   "metadata": {
    "lang": "de",
    "slideshow": {
     "slide_type": "subslide"
    },
    "tags": [
     "subslide"
    ]
   },
   "source": [
    "\n",
    "## Beispiel\n",
    "\n",
    "So könnten Sie dieses System verwenden:"
   ]
  },
  {
   "cell_type": "code",
   "execution_count": null,
   "id": "b504bdb09e500163",
   "metadata": {
    "tags": [
     "keep"
    ]
   },
   "outputs": [],
   "source": [
    "public class RealTemperatureSensor : ITemperatureSensor {\n",
    "    public double GetTemperature() {\n",
    "        return 75.0; // Simulated temperature reading\n",
    "    }\n",
    "}"
   ]
  },
  {
   "cell_type": "code",
   "execution_count": null,
   "id": "c7286544e2019629",
   "metadata": {
    "tags": [
     "keep"
    ]
   },
   "outputs": [],
   "source": [
    "public class RealFuelSensor : IFuelSensor {\n",
    "    public double GetFuelLevel() {\n",
    "        return 50.0; // Simulated fuel level\n",
    "    }\n",
    "}"
   ]
  },
  {
   "cell_type": "code",
   "execution_count": null,
   "id": "8099ac79d80b4000",
   "metadata": {
    "tags": [
     "keep"
    ]
   },
   "outputs": [],
   "source": [
    "public class RealRadioTransmitter : IRadioTransmitter {\n",
    "    public void Transmit(string message) {\n",
    "        Console.WriteLine(\"Transmitting: \" + message);\n",
    "    }\n",
    "}"
   ]
  },
  {
   "cell_type": "code",
   "execution_count": null,
   "id": "5370fd2031883fad",
   "metadata": {
    "slideshow": {
     "slide_type": "subslide"
    },
    "tags": [
     "keep",
     "subslide"
    ]
   },
   "outputs": [],
   "source": [
    "ITemperatureSensor realTempSensor = new RealTemperatureSensor();\n",
    "IFuelSensor realFuelSensor = new RealFuelSensor();\n",
    "IRadioTransmitter realRadio = new RealRadioTransmitter();"
   ]
  },
  {
   "cell_type": "code",
   "execution_count": null,
   "id": "8ff4d7ed483c43f2",
   "metadata": {
    "tags": [
     "keep"
    ]
   },
   "outputs": [],
   "source": [
    "SpacecraftControlSystem spacecraft = new SpacecraftControlSystem(\n",
    "                                            realTempSensor, realFuelSensor, realRadio);"
   ]
  },
  {
   "cell_type": "code",
   "execution_count": null,
   "id": "75fbddbf0698b7f7",
   "metadata": {
    "tags": [
     "keep"
    ]
   },
   "outputs": [],
   "source": [
    "spacecraft.CheckAndReportStatus();"
   ]
  },
  {
   "cell_type": "markdown",
   "id": "34a5a9663dbab077",
   "metadata": {
    "lang": "de",
    "slideshow": {
     "slide_type": "subslide"
    },
    "tags": [
     "subslide"
    ]
   },
   "source": [
    "\n",
    "Ihre Aufgabe ist es, Tests für das `SpacecraftControlSystem` unter Verwendung\n",
    "von Moq zu schreiben. Implementieren Sie die folgenden Testfälle:\n",
    "\n",
    "1. Testen des normalen Betriebs:\n",
    "   - Überprüfen Sie den normalen Betrieb des Raumschiffs, wenn die Temperatur\n",
    "     normal und der Kraftstoffstand ausreichend ist.\n",
    "2. Testen der Warnung bei hoher Temperatur:\n",
    "   - Überprüfen Sie, dass das Raumschiff eine Warnung bei einer Temperatur\n",
    "     über 100 Grad überträgt.\n",
    "3. Testen der Warnung bei niedrigem Kraftstoffstand:\n",
    "   - Überprüfen Sie, dass das Raumschiff eine Warnung bei einem Kraftstoffstand\n",
    "     unter 10 überträgt.\n",
    "4. Testen mehrerer Warnungen:\n",
    "   - Überprüfen Sie, dass das Raumschiff sowohl eine Warnung bei hoher Temperatur\n",
    "     als auch bei niedrigem Kraftstoffstand überträgt, wenn beide Bedingungen\n",
    "     erfüllt sind."
   ]
  },
  {
   "cell_type": "markdown",
   "id": "3b0bf7b4f9d207f5",
   "metadata": {
    "lang": "de",
    "slideshow": {
     "slide_type": "subslide"
    },
    "tags": [
     "subslide"
    ]
   },
   "source": [
    "\n",
    "#### Bonusaufgabe:\n",
    "\n",
    "5. Testen der Fehlerbehandlung:\n",
    "   - Ändern Sie das `SpacecraftControlSystem`, um Ausnahmen von den Sensoren\n",
    "     zu behandeln, und schreiben Sie einen Test, um dieses Verhalten zu überprüfen."
   ]
  },
  {
   "cell_type": "code",
   "execution_count": null,
   "id": "de3c6d6140c141d6",
   "metadata": {
    "slideshow": {
     "slide_type": "subslide"
    },
    "tags": [
     "keep",
     "subslide"
    ]
   },
   "outputs": [],
   "source": [
    "using Xunit;\n",
    "using Moq;"
   ]
  },
  {
   "cell_type": "code",
   "execution_count": null,
   "id": "2f0b6d8712458339",
   "metadata": {
    "slideshow": {
     "slide_type": "subslide"
    },
    "tags": [
     "subslide"
    ]
   },
   "outputs": [],
   "source": [
    "public class SpacecraftControlSystemTest {\n",
    "    [Fact]\n",
    "    public void TestNormalOperation() {\n",
    "        var tempSensor = new Mock<ITemperatureSensor>();\n",
    "        var fuelSensor = new Mock<IFuelSensor>();\n",
    "        var radio = new Mock<IRadioTransmitter>();\n",
    "\n",
    "        tempSensor.Setup(t => t.GetTemperature()).Returns(75.0);\n",
    "        fuelSensor.Setup(f => f.GetFuelLevel()).Returns(50.0);\n",
    "\n",
    "        var spacecraft = new SpacecraftControlSystem(tempSensor.Object, fuelSensor.Object, radio.Object);\n",
    "        spacecraft.CheckAndReportStatus();\n",
    "\n",
    "        radio.Verify(r => r.Transmit(\"Status: Temperature 75, Fuel 50\"));\n",
    "        radio.Verify(r => r.Transmit(\"Warning: High temperature!\"), Times.Never);\n",
    "        radio.Verify(r => r.Transmit(\"Warning: Low fuel!\"), Times.Never);\n",
    "    }\n",
    "\n",
    "    [Fact]\n",
    "    public void TestHighTemperatureWarning() {\n",
    "        var tempSensor = new Mock<ITemperatureSensor>();\n",
    "        var fuelSensor = new Mock<IFuelSensor>();\n",
    "        var radio = new Mock<IRadioTransmitter>();\n",
    "\n",
    "        tempSensor.Setup(t => t.GetTemperature()).Returns(110.0);\n",
    "        fuelSensor.Setup(f => f.GetFuelLevel()).Returns(50.0);\n",
    "\n",
    "        var spacecraft = new SpacecraftControlSystem(tempSensor.Object, fuelSensor.Object, radio.Object);\n",
    "        spacecraft.CheckAndReportStatus();\n",
    "\n",
    "        radio.Verify(r => r.Transmit(\"Warning: High temperature!\"));\n",
    "        radio.Verify(r => r.Transmit(\"Status: Temperature 110, Fuel 50\"));\n",
    "        radio.Verify(r => r.Transmit(\"Warning: Low fuel!\"), Times.Never);\n",
    "    }\n",
    "\n",
    "    [Fact]\n",
    "    public void TestLowFuelWarning() {\n",
    "        var tempSensor = new Mock<ITemperatureSensor>();\n",
    "        var fuelSensor = new Mock<IFuelSensor>();\n",
    "        var radio = new Mock<IRadioTransmitter>();\n",
    "\n",
    "        tempSensor.Setup(t => t.GetTemperature()).Returns(75.0);\n",
    "        fuelSensor.Setup(f => f.GetFuelLevel()).Returns(5.0);\n",
    "\n",
    "        var spacecraft = new SpacecraftControlSystem(tempSensor.Object, fuelSensor.Object, radio.Object);\n",
    "        spacecraft.CheckAndReportStatus();\n",
    "\n",
    "        radio.Verify(r => r.Transmit(\"Warning: Low fuel!\"));\n",
    "        radio.Verify(r => r.Transmit(\"Status: Temperature 75, Fuel 5\"));\n",
    "        radio.Verify(r => r.Transmit(\"Warning: High temperature!\"), Times.Never);\n",
    "    }\n",
    "\n",
    "    [Fact]\n",
    "    public void TestMultipleWarnings() {\n",
    "        var tempSensor = new Mock<ITemperatureSensor>();\n",
    "        var fuelSensor = new Mock<IFuelSensor>();\n",
    "        var radio = new Mock<IRadioTransmitter>();\n",
    "\n",
    "        tempSensor.Setup(t => t.GetTemperature()).Returns(110.0);\n",
    "        fuelSensor.Setup(f => f.GetFuelLevel()).Returns(5.0);\n",
    "\n",
    "        var spacecraft = new SpacecraftControlSystem(tempSensor.Object, fuelSensor.Object, radio.Object);\n",
    "        spacecraft.CheckAndReportStatus();\n",
    "\n",
    "        radio.Verify(r => r.Transmit(\"Warning: High temperature!\"));\n",
    "        radio.Verify(r => r.Transmit(\"Warning: Low fuel!\"));\n",
    "        radio.Verify(r => r.Transmit(\"Status: Temperature 110, Fuel 5\"));\n",
    "    }\n",
    "}"
   ]
  },
  {
   "cell_type": "code",
   "execution_count": null,
   "id": "24eabbbea511e37a",
   "metadata": {
    "slideshow": {
     "slide_type": "subslide"
    },
    "tags": [
     "subslide"
    ]
   },
   "outputs": [],
   "source": [
    "XunitTestRunner.RunTests(typeof(SpacecraftControlSystemTest));"
   ]
  },
  {
   "cell_type": "markdown",
   "id": "60c42e4caa918fac",
   "metadata": {
    "lang": "de",
    "slideshow": {
     "slide_type": "subslide"
    },
    "tags": [
     "subslide",
     "alt"
    ]
   },
   "source": [
    "## Bonusaufgabe: Fehlerbehandlung"
   ]
  },
  {
   "cell_type": "code",
   "execution_count": null,
   "id": "2c19f0063419dcc5",
   "metadata": {
    "tags": [
     "alt"
    ]
   },
   "outputs": [],
   "source": [
    "public class SpacecraftControlSystemWithExceptionHandling {\n",
    "    private readonly ITemperatureSensor _tempSensor;\n",
    "    private readonly IFuelSensor _fuelSensor;\n",
    "    private readonly IRadioTransmitter _radio;\n",
    "\n",
    "    public SpacecraftControlSystemWithExceptionHandling(ITemperatureSensor tempSensor, IFuelSensor fuelSensor, IRadioTransmitter radio) {\n",
    "        _tempSensor = tempSensor;\n",
    "        _fuelSensor = fuelSensor;\n",
    "        _radio = radio;\n",
    "    }\n",
    "\n",
    "    public void CheckAndReportStatus() {\n",
    "        try {\n",
    "            var temp = _tempSensor.GetTemperature();\n",
    "            var fuel = _fuelSensor.GetFuelLevel();\n",
    "\n",
    "            if (temp > 100) {\n",
    "                _radio.Transmit(\"Warning: High temperature!\");\n",
    "            }\n",
    "\n",
    "            if (fuel < 10) {\n",
    "                _radio.Transmit(\"Warning: Low fuel!\");\n",
    "            }\n",
    "\n",
    "            _radio.Transmit($\"Status: Temperature {temp}, Fuel {fuel}\");\n",
    "        } catch (Exception e) {\n",
    "            _radio.Transmit(\"Error: Sensor malfunction - \" + e.Message);\n",
    "        }\n",
    "    }\n",
    "}"
   ]
  },
  {
   "cell_type": "code",
   "execution_count": null,
   "id": "34972984aee27573",
   "metadata": {
    "slideshow": {
     "slide_type": "subslide"
    },
    "tags": [
     "subslide",
     "alt"
    ]
   },
   "outputs": [],
   "source": [
    "public class SpacecraftControlSystemWithExceptionHandlingTest {\n",
    "    [Fact]\n",
    "    public void TestExceptionHandling() {\n",
    "        var tempSensor = new Mock<ITemperatureSensor>();\n",
    "        var fuelSensor = new Mock<IFuelSensor>();\n",
    "        var radio = new Mock<IRadioTransmitter>();\n",
    "\n",
    "        tempSensor.Setup(t => t.GetTemperature()).Throws(new Exception(\"Temperature sensor failure\"));\n",
    "        fuelSensor.Setup(f => f.GetFuelLevel()).Returns(50.0);\n",
    "\n",
    "        var spacecraft = new SpacecraftControlSystemWithExceptionHandling(tempSensor.Object, fuelSensor.Object, radio.Object);\n",
    "        spacecraft.CheckAndReportStatus();\n",
    "\n",
    "        radio.Verify(r => r.Transmit(\"Error: Sensor malfunction - Temperature sensor failure\"));\n",
    "        radio.Verify(r => r.Transmit(It.Is<string>(s => s.StartsWith(\"Status:\"))), Times.Never);\n",
    "        radio.Verify(r => r.Transmit(\"Warning: High temperature!\"), Times.Never);\n",
    "    }\n",
    "\n",
    "    [Fact]\n",
    "    public void TestNormalOperationWithExceptionHandling() {\n",
    "        var tempSensor = new Mock<ITemperatureSensor>();\n",
    "        var fuelSensor = new Mock<IFuelSensor>();\n",
    "        var radio = new Mock<IRadioTransmitter>();\n",
    "\n",
    "        tempSensor.Setup(t => t.GetTemperature()).Returns(75.0);\n",
    "        fuelSensor.Setup(f => f.GetFuelLevel()).Returns(50.0);\n",
    "\n",
    "        var spacecraft = new SpacecraftControlSystemWithExceptionHandling(tempSensor.Object, fuelSensor.Object, radio.Object);\n",
    "        spacecraft.CheckAndReportStatus();\n",
    "\n",
    "        radio.Verify(r => r.Transmit(\"Status: Temperature 75, Fuel 50\"));\n",
    "        radio.Verify(r => r.Transmit(\"Warning: High temperature!\"), Times.Never);\n",
    "        radio.Verify(r => r.Transmit(\"Warning: Low fuel!\"), Times.Never);\n",
    "        radio.Verify(r => r.Transmit(It.Is<string>(s => s.StartsWith(\"Error:\"))), Times.Never);\n",
    "    }\n",
    "}"
   ]
  },
  {
   "cell_type": "code",
   "execution_count": null,
   "id": "609320fb3e4d06d0",
   "metadata": {
    "slideshow": {
     "slide_type": "subslide"
    },
    "tags": [
     "subslide",
     "alt"
    ]
   },
   "outputs": [],
   "source": [
    "XunitTestRunner.RunTests(typeof(SpacecraftControlSystemWithExceptionHandlingTest));"
   ]
  },
  {
   "cell_type": "code",
   "execution_count": null,
   "id": "2071d923f305d795",
   "metadata": {
    "slideshow": {
     "slide_type": "subslide"
    },
    "tags": [
     "keep",
     "subslide"
    ]
   },
   "outputs": [],
   "source": [
    "using Xunit;\n",
    "using Moq;"
   ]
  },
  {
   "cell_type": "code",
   "execution_count": null,
   "id": "511dca40b174a1de",
   "metadata": {
    "slideshow": {
     "slide_type": "subslide"
    },
    "tags": [
     "subslide"
    ]
   },
   "outputs": [],
   "source": [
    "public class SpacecraftControlSystemTest {\n",
    "    [Fact]\n",
    "    public void TestNormalOperation() {\n",
    "        var tempSensor = new Mock<ITemperatureSensor>();\n",
    "        var fuelSensor = new Mock<IFuelSensor>();\n",
    "        var radio = new Mock<IRadioTransmitter>();\n",
    "\n",
    "        tempSensor.Setup(t => t.GetTemperature()).Returns(75.0);\n",
    "        fuelSensor.Setup(f => f.GetFuelLevel()).Returns(50.0);\n",
    "\n",
    "        var spacecraft = new SpacecraftControlSystem(tempSensor.Object, fuelSensor.Object, radio.Object);\n",
    "        spacecraft.CheckAndReportStatus();\n",
    "\n",
    "        radio.Verify(r => r.Transmit(\"Status: Temperature 75, Fuel 50\"));\n",
    "        radio.Verify(r => r.Transmit(\"Warning: High temperature!\"), Times.Never);\n",
    "        radio.Verify(r => r.Transmit(\"Warning: Low fuel!\"), Times.Never);\n",
    "    }\n",
    "\n",
    "    [Fact]\n",
    "    public void TestHighTemperatureWarning() {\n",
    "        var tempSensor = new Mock<ITemperatureSensor>();\n",
    "        var fuelSensor = new Mock<IFuelSensor>();\n",
    "        var radio = new Mock<IRadioTransmitter>();\n",
    "\n",
    "        tempSensor.Setup(t => t.GetTemperature()).Returns(110.0);\n",
    "        fuelSensor.Setup(f => f.GetFuelLevel()).Returns(50.0);\n",
    "\n",
    "        var spacecraft = new SpacecraftControlSystem(tempSensor.Object, fuelSensor.Object, radio.Object);\n",
    "        spacecraft.CheckAndReportStatus();\n",
    "\n",
    "        radio.Verify(r => r.Transmit(\"Warning: High temperature!\"));\n",
    "        radio.Verify(r => r.Transmit(\"Status: Temperature 110, Fuel 50\"));\n",
    "        radio.Verify(r => r.Transmit(\"Warning: Low fuel!\"), Times.Never);\n",
    "    }\n",
    "\n",
    "    [Fact]\n",
    "    public void TestLowFuelWarning() {\n",
    "        var tempSensor = new Mock<ITemperatureSensor>();\n",
    "        var fuelSensor = new Mock<IFuelSensor>();\n",
    "        var radio = new Mock<IRadioTransmitter>();\n",
    "\n",
    "        tempSensor.Setup(t => t.GetTemperature()).Returns(75.0);\n",
    "        fuelSensor.Setup(f => f.GetFuelLevel()).Returns(5.0);\n",
    "\n",
    "        var spacecraft = new SpacecraftControlSystem(tempSensor.Object, fuelSensor.Object, radio.Object);\n",
    "        spacecraft.CheckAndReportStatus();\n",
    "\n",
    "        radio.Verify(r => r.Transmit(\"Warning: Low fuel!\"));\n",
    "        radio.Verify(r => r.Transmit(\"Status: Temperature 75, Fuel 5\"));\n",
    "        radio.Verify(r => r.Transmit(\"Warning: High temperature!\"), Times.Never);\n",
    "    }\n",
    "\n",
    "    [Fact]\n",
    "    public void TestMultipleWarnings() {\n",
    "        var tempSensor = new Mock<ITemperatureSensor>();\n",
    "        var fuelSensor = new Mock<IFuelSensor>();\n",
    "        var radio = new Mock<IRadioTransmitter>();\n",
    "\n",
    "        tempSensor.Setup(t => t.GetTemperature()).Returns(110.0);\n",
    "        fuelSensor.Setup(f => f.GetFuelLevel()).Returns(5.0);\n",
    "\n",
    "        var spacecraft = new SpacecraftControlSystem(tempSensor.Object, fuelSensor.Object, radio.Object);\n",
    "        spacecraft.CheckAndReportStatus();\n",
    "\n",
    "        radio.Verify(r => r.Transmit(\"Warning: High temperature!\"));\n",
    "        radio.Verify(r => r.Transmit(\"Warning: Low fuel!\"));\n",
    "        radio.Verify(r => r.Transmit(\"Status: Temperature 110, Fuel 5\"));\n",
    "    }\n",
    "}"
   ]
  },
  {
   "cell_type": "code",
   "execution_count": null,
   "id": "81a7d673044fee8c",
   "metadata": {
    "slideshow": {
     "slide_type": "subslide"
    },
    "tags": [
     "subslide"
    ]
   },
   "outputs": [],
   "source": [
    "XunitTestRunner.RunTests(typeof(SpacecraftControlSystemTest));"
   ]
  },
  {
   "cell_type": "code",
   "execution_count": null,
   "id": "6b4e03423667dbb7",
   "metadata": {},
   "outputs": [],
   "source": []
  }
 ],
 "metadata": {
  "jupytext": {
   "cell_metadata_filter": "lang,tags,-all",
   "encoding": "// -*- coding: utf-8 -*-",
   "main_language": "csharp",
   "notebook_metadata_filter": "-all"
  },
  "kernelspec": {
   "display_name": ".NET (C#)",
   "language": "C#",
   "name": ".net-csharp"
  },
  "language_info": {
   "file_extension": ".cs",
   "mimetype": "text/x-csharp",
   "name": "C#",
   "pygments_lexer": "csharp",
   "version": "12.0"
  }
 },
 "nbformat": 4,
 "nbformat_minor": 5
}
