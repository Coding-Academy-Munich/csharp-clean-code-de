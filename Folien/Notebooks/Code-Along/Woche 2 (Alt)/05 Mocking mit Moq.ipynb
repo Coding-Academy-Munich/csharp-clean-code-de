{
 "cells": [
  {
   "cell_type": "markdown",
   "id": "a6597a38274feea7",
   "metadata": {
    "lang": "de",
    "slideshow": {
     "slide_type": "slide"
    },
    "tags": [
     "slide"
    ]
   },
   "source": [
    "\n",
    "<img src=\"data:image/png;base64,iVBORw0KGgoAAAANSUhEUgAAAQAAAAEgCAYAAABb3q1QAAAEuGlUWHRYTUw6Y29tLmFkb2JlLnht\n",
    "cAAAAAAAPD94cGFja2V0IGJlZ2luPSLvu78iIGlkPSJXNU0wTXBDZWhpSHpyZVN6TlRjemtjOWQi\n",
    "Pz4KPHg6eG1wbWV0YSB4bWxuczp4PSJhZG9iZTpuczptZXRhLyIgeDp4bXB0az0iWE1QIENvcmUg\n",
    "NS41LjAiPgogPHJkZjpSREYgeG1sbnM6cmRmPSJodHRwOi8vd3d3LnczLm9yZy8xOTk5LzAyLzIy\n",
    "LXJkZi1zeW50YXgtbnMjIj4KICA8cmRmOkRlc2NyaXB0aW9uIHJkZjphYm91dD0iIgogICAgeG1s\n",
    "bnM6ZXhpZj0iaHR0cDovL25zLmFkb2JlLmNvbS9leGlmLzEuMC8iCiAgICB4bWxuczp0aWZmPSJo\n",
    "dHRwOi8vbnMuYWRvYmUuY29tL3RpZmYvMS4wLyIKICAgIHhtbG5zOnBob3Rvc2hvcD0iaHR0cDov\n",
    "L25zLmFkb2JlLmNvbS9waG90b3Nob3AvMS4wLyIKICAgIHhtbG5zOnhtcD0iaHR0cDovL25zLmFk\n",
    "b2JlLmNvbS94YXAvMS4wLyIKICAgIHhtbG5zOnhtcE1NPSJodHRwOi8vbnMuYWRvYmUuY29tL3hh\n",
    "cC8xLjAvbW0vIgogICAgeG1sbnM6c3RFdnQ9Imh0dHA6Ly9ucy5hZG9iZS5jb20veGFwLzEuMC9z\n",
    "VHlwZS9SZXNvdXJjZUV2ZW50IyIKICAgZXhpZjpQaXhlbFhEaW1lbnNpb249IjI1NiIKICAgZXhp\n",
    "ZjpQaXhlbFlEaW1lbnNpb249IjI4OCIKICAgZXhpZjpDb2xvclNwYWNlPSIxIgogICB0aWZmOklt\n",
    "YWdlV2lkdGg9IjI1NiIKICAgdGlmZjpJbWFnZUxlbmd0aD0iMjg4IgogICB0aWZmOlJlc29sdXRp\n",
    "b25Vbml0PSIyIgogICB0aWZmOlhSZXNvbHV0aW9uPSI3Mi8xIgogICB0aWZmOllSZXNvbHV0aW9u\n",
    "PSI3Mi8xIgogICBwaG90b3Nob3A6Q29sb3JNb2RlPSIzIgogICBwaG90b3Nob3A6SUNDUHJvZmls\n",
    "ZT0ic1JHQiBJRUM2MTk2Ni0yLjEiCiAgIHhtcDpNb2RpZnlEYXRlPSIyMDI0LTA4LTA4VDIxOjU2\n",
    "OjAyKzAyOjAwIgogICB4bXA6TWV0YWRhdGFEYXRlPSIyMDI0LTA4LTA4VDIxOjU2OjAyKzAyOjAw\n",
    "Ij4KICAgPHhtcE1NOkhpc3Rvcnk+CiAgICA8cmRmOlNlcT4KICAgICA8cmRmOmxpCiAgICAgIHN0\n",
    "RXZ0OmFjdGlvbj0icHJvZHVjZWQiCiAgICAgIHN0RXZ0OnNvZnR3YXJlQWdlbnQ9IkFmZmluaXR5\n",
    "IERlc2lnbmVyIDIgMi41LjMiCiAgICAgIHN0RXZ0OndoZW49IjIwMjQtMDgtMDhUMjE6NTY6MDIr\n",
    "MDI6MDAiLz4KICAgIDwvcmRmOlNlcT4KICAgPC94bXBNTTpIaXN0b3J5PgogIDwvcmRmOkRlc2Ny\n",
    "aXB0aW9uPgogPC9yZGY6UkRGPgo8L3g6eG1wbWV0YT4KPD94cGFja2V0IGVuZD0iciI/Pn5bG28A\n",
    "AAF/aUNDUHNSR0IgSUVDNjE5NjYtMi4xAAAokXWRzytEURTHP2ZoJj+iWFhYTMIKMWpiYzFiKCzG\n",
    "U35t3rz5pebH672RZKtsFSU2fi34C9gqa6WIlKytiQ16zvWmZpK5t3vP537vOadzzwWPljGydnUf\n",
    "ZHMFKxoJB+bmFwK+F/wymwnh1w3bnJoZ06g4Pu6pUva2R+Wq7PfvqIsnbAOq/MLDhmkVhMeFJ1cL\n",
    "puId4RYjrceFz4S7LSlQ+E7pMZdfFKdc/lJsadER8DQJB1JlHCtjI21lheXldGQzK0axHvWS+kRu\n",
    "dkZsu6w2bKJECBNgglFGpCf9DMkeoocgvXKiQnzfb/w0eYk1ZDdZw2KZFGkKdIu6ItkTYpOiJ2Rm\n",
    "WFP9/9tXOzkQdLPXh6Hm2XHeOsG3Dd9bjvN55Djfx+B9gstcKT5/CIPvom+VtI4DaNyA86uSFtuF\n",
    "i01ofTR1S/+VvLI8ySS8nkLDPDTfQO2i27PiPScPoK3LV13D3j50iX/j0g9uCmfpmg9wSAAAAAlw\n",
    "SFlzAAALEwAACxMBAJqcGAAAIABJREFUeJztnXd803X+x18Z3SPdezesykaWVlBxnAxRHIgeFBAX\n",
    "nuN3d57m3OvqPDcCFkoqCnoICq5jg6WlLZS2QEsh3U1nmrZpmtGs3x8BD7BA0yb5fMfn+XjwEJv0\n",
    "833Rfr+vfMZ7CEDhPHKZwg/ASACjLvqTCKAZQDWAqrN/zv39VEam1EBEMMVtCEgLoLgGuUzhAeA+\n",
    "AE8DmADHf9ddANYD+DQjU1rjZHkUhkANgGPIZYogAI8AeAJArBOGtALYAeCjjEzpPieMR2EQ1AA4\n",
    "glymSIb90345AH8XXeY4gE8A5GRkSo0uugbFjVADYDlymSISwJsAlgIQuemytQCeyciUbnHT9Sgu\n",
    "ghoAS5HLFJ6wf+K/ACCAkIwDAJ7KyJSWEro+ZYhQA2AhcpliPoD3AEhJa4F9jyALwAsZmdJ20mIo\n",
    "jkENgEXIZYqrAHwI4CbSWvqhG8BrAD7JyJSaSIuhDAxqACxALlOEwP5wPQr3rfMHy2kAf83IlP5E\n",
    "WgjlylADYDBymUIM4DEArwAIIavGYX6F3QgqSAuhXBpqAAxFLlPcAuADAGmktQwBM4BVAF7JyJR2\n",
    "khZD+SPUABiGXKYYBuB9APNIa3EiHQBeArAmI1NqIS2G8j+oATAEuUwRCOBFAE8C8CQsx1WcAPB0\n",
    "RqZ0D2khFDvUAAgjlymEsEfvvQkggrAcd/EDgL9lZEqrSAvhO9QACCKXKa4D8BHsyTp8wwj7keab\n",
    "GZnSHtJi+Ao1AALIZYoEAO8CuJe0FgbQAuB5ANkZmVIbaTF8gxqAG5HLFL4AngPwdwA+hOUwjaOw\n",
    "hxUfIi2ET1ADcANymUIA4H4AbwGIIyyH6WwG8I+MTGkDaSF8gBqAi5HLFJNhX+dPJ62FRegBvAPg\n",
    "nYxMqY60GC5DDcBFyGWKaNg/8ReD/pwHSwOAZzMypZtIC+Eq9MZ0MnKZwgvAXwH8E64rzME3DsEe\n",
    "P3CEtBCuQQ3AichligWwp+kmk9bCQWwA5ABkGZnSFtJiuAI1ACcglynGwn6mfQNpLTygB8C/AHxA\n",
    "y5INHWoAQ0AuU4QBeB3AQ2B+mi7XqAbw94xM6TbSQtgMNYBBcLbk9uMAXgYQRFgO39kL+/7AcdJC\n",
    "2Ag1AAeRyxS3Afg37I02KMzAAuALAC9mZEpVpMWwCWoAA0QuU4yAPT//NtJaKJekC8CrsDczMZMW\n",
    "wwaoAVyBs402XoZ9yu9BWA5lYJwC8H8ZmdJfSQthOtQALsHZNN2HYd/kCyMshzI4foa9LFklaSFM\n",
    "hRpAP8hliuthP9YbR1gKZeiYAHwK4NWMTGk3aTFMgxrAeZxtr/UegAWktVCcTjvsFZe+yMiUWkmL\n",
    "YQrUAADIZQp/ADLYQ3i9CcuhuJZS2I8N95MWwgR4bQBn03QXA8gEEENYDsW9bIU9kIjXrc95awBy\n",
    "mWIa7Gm6U0hroRDDCHtMx78yMqVa0mJIwDsDkMsUsQDehr1AB+/+/ZR+aYZ9CZjDt7JkvHkA5DKF\n",
    "N4BnADwLwI+wHAozKYR9fyCftBB3wQsDkMsU98JeYSaRtBYK47EB2AR7WTIlaTGuhtMGIJcpxsO+\n",
    "zp9BWguFdehgXyq+m5Ep1ZMW4yo4aQBymSIC9kYbywEICcuhsJt62GcD35AW4go4ZQBn03Sfgj3g\n",
    "I5CwHAq3+A32/YFi0kKcCWcMQC5TzIW9qeZw0loonMUKIBvA8xmZ0lbSYpwB6w1ALlOkwZ6mewtp\n",
    "LRTeoAHwBoCPMjKlfaTFDAXWGoBcpgiGPff7MQBiwnIo/EQBe5PT7aSFDBbWGYBcphABeBT2hz+U\n",
    "sBwKBQB2wV5/4CRpIY7CKgOQyxSzYE/THU1aC4VyERYAqwG8lJEpVZMWM1BYYQBymSIV9g2++aS1\n",
    "UChXQA3gFQCfs6EsGaMNQC5TBAB4AcDTADwJy6FQHKEc9mXBTtJCLgcjDeBsmu4y2IN5ogjLoVCG\n",
    "wg7YNwrPkBbSH4wzALlMcS3s4buTSGvhCiKxAGIvITw8hfDwEsDDSwgPLyHEXkKIxAKYjFb06a0w\n",
    "6izo01vRp7fAbLbZo+IpzqAPwMcAXs/IlGpIizkfxhiAXKaIhz1h5z7SWliFAPD2EyEwzAOScE9I\n",
    "wj0QGOaJwDAPePmJ4OEpgFDk+K/ZYrb9bgZGvfWCvxu0FnQojehQGmHUWVzwj+IsbbAvadcxpSwZ\n",
    "cQOQyxS+AP5x9o8PYTmMRigSICzeC5FJPggM94AkzAOB4Z7w9CaX7qDtNEHVaERHo/F3UzAZGXFv\n",
    "M5ljsIcVHyQthKgByGWKRbBnXMWT1MFUBEIBQmM8EZXqg6gUH0Qk+UDsQdyzL48N6FaZ0NFoQIfS\n",
    "CFWjEepmIywmup7oh/8AeCYjU1pHSgCRu0kuU0yCfZ1/LYnrMxYBEBxpf+CjU30QmewDDy/2JzPa\n",
    "rDY0KfSoLdWivryXzhAuxAB7Jeq3MjKlve6+uFsNQC5TRMHe2nmpu6/NZPyCxEiZEIDUCQEIDON2\n",
    "8yGL2YbGU72oKdVCWamDxUxnBmdRAngOwFfuLEvmlodQLlN4Avg/AM8DCHDHNZmOh5cQiaP9kDox\n",
    "AJHJ/Nz6MBmtqD9pN4PmKj1sVmoGAA4DeCojU1rojou53ADkMsUdsE9xUl19LaYjEAoQM8wHqRMC\n",
    "EJ/mB5GYToLOYdBaUHtci5pSLdobDHw/grQB2AjguYxMaZMrL+SyO1AuU4yGPW5/lquuwRbEnkIM\n",
    "nxKItHQJfANp4uKV6FGbcHx/F6qP9cBq4bUT9MLes+L9jEypwRUXcLoByGWKUACvAXgEgMjZ47MJ\n",
    "T28hRkyXIO0aCbz8eP2jGBQ9ahPK9naiukTL9+VBLeynBVucPbDTDEAuU4gBrIQ9ESLYWeOyES8/\n",
    "EdKukWDEdAnRM3qu0NNx1ghKeW8EB2DfHyh11oBOMQC5THEr7FV5RjljPLbiGyhGWroEw6dKmH9e\n",
    "z0I0HSaU7elETVkPbPw9SbQCWAd7WbL2oQ42pLtULlMMg/3BnzNUIWxG5CHA6BnBGD0ziG7suQGN\n",
    "yoTSPWrUHtfy2Qi6YV9qf5KRKTUNdpBB3a1ymUICe+XdJwFw++D6CsSO8MWUeWEICOH1j4EI3W19\n",
    "KNndibqTWj6fGpwG8NeMTOlPg/lmhw1ALlMsA/AWgIjBXJAr+AWJMXlOGBKuol3GSFN/sheHf2iH\n",
    "QcvrxKT/AvhLRqZU4cg3DdgA5DJFIIAsAPc4KIxTCEUCpKVLMPbGELrOZxDGXgvyv29H/Um3R9My\n",
    "iR4ADznSxGRAd7BcppgAe+ICr4N5IpN9MG1+GCQRtDgRU6ku0aJwRzv69PzdHACwBvZswyvGDlzR\n",
    "AOQyxUrYe6h7OUEYKxEIBZhwcwhGzwwiLYUyAHQaM/K3tkN5WkdaCklKANx7pUpElzQAuUzhA2AD\n",
    "gHudq4td+ErEmLEwEhFJ3qSlUBzkTJEGR37u4HP2YQ+ApRmZ0q2XesPlolTWgOcPf+xwX8x7Io4+\n",
    "/Cxl2ORAzHsyHlEp/Ey2gj3xbpNcpph6qTf0OwOQyxSPwF7jnJcIRQKMvzkEo2fQKT9XqDjUjaO/\n",
    "dvA1t6ARwISMTKnq4hf+YABni3UcAk/X/H4SMWYsikR4Av3U5xrK0zoc+LoV5j5eLgl2A7j14lqE\n",
    "FywB5DJFCIAt4OnDH5HkjblPxtOHn6PEDvfFrQ/FwNufl4lZNwF4/eIvXrwHkAMgyR1qmEZ8mh9u\n",
    "Xh4DLx+avMNlQmO9cNujsZyvvHQJZG8szL///C/8vgSQyxSTAbilCgnTGDY5ENPuCIeAxvXwBqPO\n",
    "gr3yFnvxER6gaulG7q5ymExmzY+tyyTnvn7+x90KArrIIgDG3BCM6XfSh59vePmKcMuKGMSP4nYo\n",
    "t77XiP0/l+G7DYfQ0qhGR6sm8NEpO35P3hMBgFym8IP9zJ83a3+BAJgyNwxjZvK6dAGvEYoESBrr\n",
    "D2OvvdEJl7BarCgtrMbObcVoa+q64DUfX88RJ9Rb1gL/mwHcAx4V6xSJBbhuYSRGTpdc+c0UTiMQ\n",
    "AFPnh2PCLSGcqVNdc7oFm784gMP7TsHU98cGxc0N6glPpP/sDwDnCtTxZvovEgtww+IoxAzzJS2F\n",
    "wiDGXB8MX4kYed+1sbbGgLq9B4d2l0NZ+4fj/gswGkzC3h7DGwCeFstlCil40qBDIATS742gDz+l\n",
    "X1InBMBksKLwRxWr6gsY9H0oOnga5cfqYbMNTLi6vecBAE+LAYxxqTqmIACmzAtH4mh/0kooDGbk\n",
    "dAm0nWaU53Zd+c2EsVptOHm0Fkdyz8BocKwoUI9GHwzYlwC86Ms37sZgjJgaSFoGhQVcPTsUvV1m\n",
    "1J3QkpZySRqq25G3uxydHYPTqO81ip5I/9mTFwYwfGogxs0KIS2DwiLS742ATmNGez2z4gS61L3I\n",
    "31OOOkXbkMax2QCLxTqB8waQONof024PJy2DwjJEYgFuXBKFXz5XQtMx6JqbTqPPaMaR3NM4caQW\n",
    "VieVRjebLNw2gKgUH1y3MIIzxzsU9+LlK8KsZdH45XMlDL1k6g3abDZUlDSg6GAl9Lo+p45tNlvS\n",
    "OGsAAaEeuGFxFIQi+vRTBk9AiAduWBKFnVlNsJjcezTQVN+BQ7vK0dGmccn4pj5LqhhAlEtGJ4hI\n",
    "LMDMRZHw8KKJPZShEx7vjevujcSBTS1uiRHo6dIhb28FaipbXHodk8kcLcb/goE4w9WzQxESw5uo\n",
    "ZoobSLjKD1ffFoainy4fZDMUTH1mFOdVoaywGhaLG5zGBiHnHv7E0f4YMY2G+FKcz6hrJWip0aOh\n",
    "3PmlxyuPN6Jg/ynotO7NSeCUAQSEeOCau+iOP8V1TL8jHG21Bhh1ztkUbFV24tCucrQ1kwk84owB\n",
    "iMQCzKDrfoqL8fYXYcq8MPz2TeuQxuntMeDwvgqcOdnkJGWDgzMGMPFPoQiNpet+iutJHuePuhPa\n",
    "QXUhMpstKD1cjWOHq2A2kW9lxgkDiBvph1HX0HU/xX1Mmx+O1loDjA7EB1RVNCF/7yloNXoXKnMM\n",
    "1huA2FOIqfPDSMug8AxvfxGmzgvDwc1XXgqcK8fV0qh2gzLHYL0BjL0hGH4S1v8zKCwkaax9KVB3\n",
    "ov+lgL7XiIIDlagsaxxwmq67YfWTI4nwxFXX0ak/hRxT54ejtcZwQaiw1WJFWVENjh5S9FuRh0mw\n",
    "1wAEwNTbwyAQ0lBfCjm8/USYcnsYDm6yLwVqz7Qif08FujvZ0aactQaQPNafzz3fKAwiaYw/Sva2\n",
    "4esPD6PxCuW4mAYrDcDTW4jJc+jGnyMYey3Q9Vig7zFDp7FArzFD12OBodcCkVgAL18hvH1F8PIT\n",
    "wctXBG8/IXwlYgSE8LKBxoAx6izY8vFJrHnpN0Yc6zkKKw1g/M0hfG3vdEWsFhtaqvVoqNBB3WSE\n",
    "TmOGQWuBxTy4TSgvHyHC4r0RGueF8HhvhMV7wcuX/uxtVuDQ9ga8s3IXVM3MrRx0JVhnAJIITxrr\n",
    "fxEmoxXKSh3qy3vRdFqHPoPzEkmMeiuUp3VQntbZvyAAJOGeSB7rj+Tx/rycIVSXdePdx/agNK+R\n",
    "tJQhwzoDGHN9EO3iA0CnMaOhQoeG8l60VOvd1/baBnS39aFktxole9QIj/NG8nh/JI31h7cft2cG\n",
    "XW1GfPFCAb7PKgFDT/UchlUGEBDigeRxvOlf0i89HSYU71Sj/oSW/E1oA9obDGhvMKDopw4kjfHD\n",
    "uFkhnGu8aTJY8cOaU/jsuf0wGph9rOcorDKA0TP5++lv6LWgdE8nzhRp3Pdp7wA2qw01pVrUHtci\n",
    "eWwAxs0KRkAoy43ABhT+2oS3H9uF5rpu0mpcAmsMwFciRupE/n36m/usOPlbN8pzu2AyMr9ljc0K\n",
    "VJf0oKZMi5Tx/hg3KwT+way5zX6nvqIH/35iHwr31JKW4lJY85u56rogXtX3s1mB00UalO1VQ9/D\n",
    "vuMlm9WGquIe1J3oxcRbQ1jTh7Gnow/rXz2Cbz89Qn6J5QZYYQDe/iIMn8yfph6qRiNyv22FRkW+\n",
    "HPVQMfdZUbhDhfryXlx7VwT8gph5y5n7rPgl+ww+/Pte6LXs/7kPFGb+Ni4i7dogiDz48elfXaJF\n",
    "/rY2t1egdTUtVXps/6gBk+eEQno1s8z82N5WvP3oLtSfYV62nqthvAF4egsxYhqzbhiXYAOKd3bg\n",
    "xMEuVjWmdAST0Yq8re1QntYh/d5IiMRkTb2pqhcfPnUAuT8piOogCeMNIHGMP+fLfJn7rDi4uQ2N\n",
    "p9iRQDJU6k70Qqdpwo1LoohEFfZ2mfDlWyXY+O5hp3XZYSuMN4DUCdze+dd2mrA3pwVdrc7t+sJ0\n",
    "2usN+GW1Ejcti4Z/sHuOCy1mG3Z/VY33n94DbRezev6RgtEGEBDigYgkb9IyXEZrjR77v251qKwU\n",
    "l9CoTPj5cyVmZUS7vJ7jiUPtePuR3ag62e7S67ANRs+tk8f7k5bgMpoVeuxa38zbh/8cBq0F//2i\n",
    "CapG19TDb6vX4YW7d+Lh9E304e8H5hqAgLvTf43KhAObWhgZ0UcCc58Ve3Oa0aN23vGbvseM7FeL\n",
    "cVfqeuz97pTTxuUajDWA8Hhv9oeS9kOfwX6z9+mZH9XnTgxaC/ZkNw+54YbVYsO+b2pxd+oGfPFK\n",
    "Lixm+nO+HIw1AC5++ttswMFN3AjwcQWaDvuG6GBrF1QeUePhaVvw/H3b0dmuc7I6bsJIAxCJBUga\n",
    "y731/5GfVWg6Q2/My9Feb3C4605HkwFvLN6LZZM3ovxIs4uUcRNGngJES33h6cNIbxo0iiM9qMjj\n",
    "ZkaZs6k/2YvTBRoMn3r5ADCjzoLvPjmJ1S+ysxwXE2CoAXCr2GdbnQEF29s5G+HnCo780oGY4T79\n",
    "xgjYrEDe9ga87eRyXM+uuRERcX+ceXZ3GPDakp0Oj7fobxNx9Y1x/b722pKd6O4gH4vASAPgUrVf\n",
    "s8mGg5taB72u5SvmPisObWnHrStigPMihqvLuvHuyj0oPeT8clwTZsYiYUTwH77erhycyQwbF4bp\n",
    "s5P6fc3DixnVkxhnAN7+IgRHeZKW4TTKc7ug03Crioy7aK3Ro/xQF9LSgzhZjosJMM4AopK58+lv\n",
    "7LXg5EEyfd+5QuGPbSg51IAvXvmNc+W4mADzDCCVOwZQureTFVV8mIjNZkNFaQOKDlRCr+NXnoQ7\n",
    "oQbgInrUJpwu1JCWwUqa6juQt7scqlb683M1jDIAX4kYgRyJ/ju2U01DfR2kp1uP/D3lqK5sIS2F\n",
    "NzDKALiy+9+hNKLuOHu7xbgbU58Zx/KrUFpYTUN33YwYFxyykCUqmRupv0d/6aA71QPk9PFGFOyv\n",
    "RK+W/Jk437DZIGDUDEASwf7jP1WjES3VetIyGE+rsguHdp9EWxM9JSEJowwgMJz9BlB/kk79L0dv\n",
    "jwGH953CmZNK0lIoYJABePmJ4MWB+P+Gcn7U9XMUs9mC0oJqHMuvonH7DIIxBiDhQD85jcqE7naa\n",
    "6nsxVRXNOLyvAj3ddGnENBhjAFxoKFlPP/0vQNXSjUO7y9Hc4N56+5JQbySO/GNM/5Xw8u3/cfDw\n",
    "EmHstdEOjxcccelTrbQpUehysGZBR4sOyirnZpQyxwA4sP6n0387+l4jCg5UorKsETYCxyHjZ8Qi\n",
    "c+scp40XFOaD1bn3OG08AHhrm+P6vvusDO//Zb9TdTDGACTh7J4BGLQWqBr5fZRltVhRVlSL4rwz\n",
    "6DPSuH02wCADYPcMoKGiFzYex7DUnmlF/p4KdHfSWRCbYIQBCIQCBIQwQsqgaajg542vVvUgb1c5\n",
    "GmtVpKVQBgEjnjovXyEEQsYEJA6K9nrX1LVnKka9CUW/VeJkcT2RdT7FOTDCADw82X3+bzHbYNTz\n",
    "42zbarWhvLgORbmnYdTTI0+2wwwDYHnzT32PmRf1/hpq2pG3uxydKmZHO9ad6sT61wod/r67/zIW\n",
    "gSF/zEfRa03Y9O9jDo83885UpI4J7fe1zR8cg67HMQMtL3R+liQjDEDsxe7pv76H25/+3epe5O0p\n",
    "R52ijbSUAVFboUbWy4cd/r6bFg7r1wC03cZBjReTHHhJA/j6vWKomsjvGzHCANg+A+Bqzb8+oxlH\n",
    "D53B8aIa3rfR5irUAJyATsOtGYDNZsOp0gYU0nJcnIcagBPQ93BnBkDLcfELZhgAy08BuDADoOW4\n",
    "+AkjDID9m4DsnQGYTRYU5yloOS6ewgwD8GD3DMCgZecM4MSJcigqmqButNCHn6cwwgDMJnbffCIx\n",
    "u2YwSmUzdu/ei6YmeyddX28/xCeMQnuDjkb18QxGGECfnt0G4OnDjD5vV6KnR4t9+w7g5MmKC76u\n",
    "M/Sisv4IwoKjEOQZh45W8ufTFPfAEANg5xT6HExvZW42m1FQUIT8/EKYTJeOPlN1tkCFFiTGDIdF\n",
    "64deDb/Tm/kAIwzAyPIZAJNrGVZUVGLfvgPo7h74sV5d02mIxR5ISbgKnc1mWsOPwzDCAOgSwPm0\n",
    "trZh1669aGgYXBtts9mE0/UlCPCTICZyONoamR3/TxkcDDEAdn/CMGkJoNPpsH//bygrO+GUDb2e\n",
    "3m5U9hYhOjwe3rZIdKmYvz8gFAogEg/idyLofzNXIBDAw9NxkxeKLr057OEpcnhMq9Xm9NMaZhiA\n",
    "gd0zACb0M7RYLCgqKkZeXj6MRueH7za3NwBoQEpcGgxqD0aHCF83P8WpNQHDYvxwwPi408YDgO9q\n",
    "ljr+PVytCcj2JUBorBfR6585U4U9e/ahs9P1XXaqG8vh5emNpISroFIaYLWw+3fHdxhhABazDRaT\n",
    "DSIPdp2nn8NXIoa3v8jtAUEqlQq7du1DbW2dW69r7DOgsv4ogiVhCPNLhqqJ7g+wFUYYAAAY9Rb4\n",
    "ejBGjsOExnpBWelYnffBotcb8Ntvh1BcXEI0cKezW4XObhXio1IgNARB00Ubf7ANxjxxfXorfANJ\n",
    "qxg87jAAq9WK4uIS5ObmQa9nzhl9Q0s1hEIRUuOvgqbNRkuCswhGGQCbcfU+QE1NLXbv3geVqsOl\n",
    "1xksVqsFZxrK4Ovtj/j4kWhvpGHFbIAxBqBjcUYdAEQm+0AkFsBidu5Nr1Z3Ys+e/VAoqpw6rqvQ\n",
    "GbSobDiC8JBoSDzi0NHq/v0BdasOh391fF9k/IxYePfTHszUZ8HRvY7HUwwbF4bQaL9+Xyve34g+\n",
    "g2N7RjXlzm+xJpDLFIyw6dEzgzDx1v7rp7GFfV+2OK0/gNFoxKFD+SgqKobVyt7ZUVLMCJh7fNHb\n",
    "w5wly6XYfGoxEkb8sadgu1KL+XHrHR7vpZxb8KfFI/t97fbYdcRrAiakRpQxZgbQoWR/Xf2ksf5D\n",
    "NgCbzYbS0uM4cCAXOp17NhVdSW1TJcRiD6QmjIa62UTDihkGYwxAzQEDiB/lC7GHAGbT4CZV9fUN\n",
    "2L17H1pb2VF9d6CYzSZU1h9DgH8QYiKH0bBiBsEYAzDqrehRmxAQQj6qbrCIPYWIHeGHuhOO3eDd\n",
    "3d3Ys+cAKitPu0gZM+jRdqFSW4ToiHh4WyLQ1cH+GQ7bYYwBAPZZAJsNAACSx/kP2ABMJhPy8gpQ\n",
    "WHgEZjO7N0EdobnNHlacGncVdGoxDAwOK+Y6jDIAldKIxDH+pGUMifg0PwSGekDTcfmuL8ePn8T+\n",
    "/b9Bq+XvdLiq8SS8vbyRSMOKicEoA+DCPoBAAIy5IRiHtvS/jr+4HBffMRjtYcUhkjCE+SZD1cxf\n",
    "QyQBowygo4n9BgAAKeMDULa3Ez3q/80CLlWOi2JH3a2CuluF+KhUCAwS9NCwYncgYJQB9HFgIxAA\n",
    "BEJ7XEP+tvYBl+Oi2GloqbKHFSeMhqbVSsOKXQxzKlmchQvxAAAgnRSAZlU91q5dj4MHD9GH3wGs\n",
    "VgvO1JdCK6xFRLwfhEJ2ZomyAeYZQCM3DEAgFGDsTYEO1eKjXEivvgdnlEfx3IZ0zLxDSloOJ2Gc\n",
    "AbQ3MD9kdKDcdu8k3LxgAmkZrGbRypmYu3gCMrfNxjs/3oaUq8JIS+IUzDOAegP0PdwJF33580UI\n",
    "Cu0/IYRyeWKTQvG3t+74/f/T5wzDuiP34KmP0uEf5E1QGXdgTDLQ+UyZF4aR0yWkZTiNH78uwjMP\n",
    "OJ5MwmcEAgGy/vsErrl5VL+vtzdpkPOvY9i6qhTOyjpOGhUCD68/Fuo0m6yoOel4GnZUYgACgvs3\n",
    "qpqTHcQ7YiWkRhxnpAFEJHrjT4/EkpbhVB6f/zn2bi8jLYM1LFg2HW+uX3LF950sasSa547gyN56\n",
    "N6jiFgmpEccZtwQA7MsAXTe3jn9e++LPiE1id7qzuxg5Pg4vfLJwQO+9anIcPto9H69uvgkxyUEu\n",
    "VsY9GGkANhtQe5xbEWGhEQFY89PjCAjyIS2F0UTGBmH1j4/Dx2/gFZYEAgFuXpgGeelCPPzGVHh5\n",
    "Myq8hdEw0gAAoLaMWwYAAKlp0fj4u0fg4Ulv0P7w9ffC5ztWIjJ2cJ/kfgFeWPr8VOScWIg/LR51\n",
    "qT4flPNgrAGolMYLQmm5wrQbR+C1tQ9AQO/OCxCJhHh/04MYNSF+yGPFp4bipZyb8dGeeUibHO0E\n",
    "ddxFdOd1T75CWsSl8PEXITKJe1PmkePjYLPZUHTgDGkpjEAgEOD5jxdi3p+nOHXcmORgzFk2CpGJ\n",
    "vigvaIe+l3sfKENBEuLXxmgDMOosGDGVO8eB5zPl+uHw8vbA4b2VpKUQRewhwhtZf8a9D6e7ZHyh\n",
    "UIAREyMxe9kICARCnCxohc3KuIMvIkhC/NoYuwQAgM6WPnS3c9e1H3ruVrwlz+DtnoCPnxc++/5R\n",
    "3Ll0usuvFRTqh5VvXYvsY3djxvxUl1+PLTDaAGDj5mbg+dy+eCo+37ESfgH8imwLDvPHhj1PYcbs\n",
    "0W69rnR0FN76fg7e3n4bktNoWDGzDQCA4qgGVgu3p2zX3jIKXx74K8KjubncuZj4lDB8lft3jJ2a\n",
    "TEzDdfOGYf3Re/DUh+nwDyTb3JUkjDeA3i4zFEd7SMtwOaMmxOP70hcw645xpKW4DIFAgAXLpmNb\n",
    "yfNIHhFJWg7R89v4AAAWN0lEQVS8vD2w8KmJ2Fh+HxasHMvLY0PGGwAAnDjQyYuNm5Bwf3y67VFk\n",
    "bshAgIRbpx+hkYH49PtH8eb6JYxb7kTESvD3z67HmsMLMOn6BNJy3AorDEDbaUZVMbf3As7njoxp\n",
    "2H78RUyb1X9XGbYx645x2H78Rdx4+1jSUi7L6Clx+HjvfLzy9U2ISmBxp1oHYPQx4Pl0tfZh5DQJ\n",
    "b6Zp/hIf3LFkGqLiglFR0gCthn11EpJHROKlVYvw1Ou3w8fPk7ScASEQCJA6JhxzHxwJbz8PnMxv\n",
    "gcXMzWrFjI8DOJ8+vRUBIR4IiebXhk3axAQ88PhMhEVJUFnayIoeewmp4ZB9eA9eXfMAho+OIS1n\n",
    "UHh6iTFhRixm3ZcCbacJijIVaUlORxLi18bIdOBLERjmgfn/l8CbWcDF9BnN2Lz6IL54679QtTCv\n",
    "1FhMYggee2E27lw2HSIRK1aXA6Zobw1WP1eEiqIW0lKcBmPrAVyO9HsjkTKe3c1DhopBb8Kurcfw\n",
    "06YiHNpZQbThppe3B66fOwZz75+M6+eOgdjjjwU1uILFbMWP2Sew5vlCdLWzv60ZKw1AEuGJ+U/F\n",
    "AzydBVxMV0cvfv3PUfz4dRGOHaqC1Q2nJSKREFNuGI55D0zBzQsmwD+QWbv6rqZT1Yuv3zmGzR+U\n",
    "sHp/gJUGAAAz7otE0lh+zwL6o6WxE0cOKnC8qBYniupQfqzBKX33/AK8cdWkBIyZnIgxU5Jw9XVS\n",
    "hEbyY5f8cpw53oKsF47it+1VpKUMCtYagM2zF0te5mfghiNYLFYoTjbjRFEtGqpV0HTq0KXWQdPZ\n",
    "C02nDt1qHXq1RvgHekMS7AtJiB8Cg30hCfGFJNgXicMiMHpyElJGRtL05ctw4IfTWCMrQm2F43UD\n",
    "SZKQGnGcVVkoer0Bv/12CMXFJRCG3IPFT95AWhKjEYmEGDE2FiPGcqu+ItOYOX84jh9TQJetQ0eT\n",
    "kVXLAlYYgNVqRXFxCXJz86DX24/BPvjnD7h+7hjEp9CEDgpZKo41YM2/fobZZIEkIBiRgVK0K9kR\n",
    "uMb4s5qamlqsWyfHrl17f3/4AUDfa8Tzy3MIKqNQ7CcDsqXy309iuns6cVpZBN9IPSQhvoTVXRnG\n",
    "GoBa3Yn//GcbNm/eApWq/7VV0YEz+OrT/e4VRqGcx6rXf0ZlmfIPX1e21qKusxih8WJ4+TC32S3j\n",
    "lgBGoxGHDuWjqKgYVuuV11L/ln2PmXNGIy6ZLgUo7qXiWAPWZv56yddtNhsUDcfh4+WDhIQ0qBr1\n",
    "bjmmdQTGzABsNhtKSsqwevU6FBQcGdDDDwA6rREvPPili9VRKBdy8dT/cuiNelTWHwUCOxAaxazj\n",
    "a0bMAOrrG7B79z60trYN6vsL9p3GplUHsGjlTCcro1D651JT/8vR0dWKDrQiIXoYbDp/aLvJ53UQ\n",
    "NYDu7m7s2XMAlZWnhzzWe89uw4zZo2n3HYrLOVXSeNmp/5Wobz4DkUiM1ISr0NVihamPXBcsIksA\n",
    "k8mEAwdysXZttlMefoAuBSjuwZGp/2XHsZhxur4UOnEdIuLILQvcbgDHj5/E6tXrkJd3GGazc53v\n",
    "8N5KbPr8oFPHpFDOZ9XrP+NUaaPTxtPqNKhsLIJnmAbB4e5vI++2JYBS2Yzdu/eiqanZpdd57x9b\n",
    "MX5aslM6zFAo51Ow7/SQpv6Xo1WlBKBEStwoGDu9oOs1uuQ6F+PyGUBPjxbbt/+EnJyvXP7wA/al\n",
    "wKNzP0NLQ6fLr0XhD1XlzXhiwWqXp15XN1agva8CEQk+EIld/njahABcksFgNptx6FA+1qxZh5Mn\n",
    "K1xxiUvS1tSNR+Z8xsoyWhTmoWrR4OHZn6KnS++W6/WZjKisL4bZtxnhMa7bHxB7iDqFAJy3oDlL\n",
    "RUUl1q5dj4MHD8FkItPZ5/RxJZ68aw2rEjMozMOg68Nj81ahqU7t9mt3adQ43VQE30iDS8KKPTxE\n",
    "dUIADc4asLW1DRs3bsb33+9Adzf5klX5u0/hpYc3kpZBYSlWqw1/vW8dThypI6pD2Vrzv7Bib+eF\n",
    "FYs9RJViOGEGoNPpsH//bygrOwGbjVmhjluz8xGXHIbHXpxNWgqFZbz55DfYt6OMtAwA54cV+yIh\n",
    "Pg0qpW7IYcViD9FxMYYwA7BYLCgqKkZeXj6MxqFXnnEVn7z8I2KTw3C7k9tPU7jLhn/vxtefHSAt\n",
    "4w/ojTpUNhxBaHAUQr3i0dEy+LRjkUhYPGgDOHOmCnv27ENnZ9egBbgLm82GFx78ElFxQZhy/XDS\n",
    "cigMZ+d3x/DuM1tJy7gsHZ0t6EALEmOGw6r1c3jD28NTZPssb45SCMChUDyVSoVNm/6DLVu2seLh\n",
    "P4epz4wnFqxBVQV3yjpTnE/p4Ro8uzibcVl7l6Ku6TSaeo8jPMELHg5UZPYP9NEB9jiAQgBXrGqo\n",
    "1xuwc+ceZGXJUVtLdlNksGg6dXhk9qdoqOZekwfK0DlV0oiVt6+CQU/m5Gqw2MOKS6DzrB9wWHFY\n",
    "ZOBuABBmZEptALIv9Uar1YojR4qxZk0Wjh49xrhNPkdR1nZg0TXvEt/ZpTCL/N2nsHjm+1C3s6OU\n",
    "V39oe+1hxV5hPQgOu3RYsVAogH+gzz+As9X15TJFLIB6XBQZWFNTi927912yIg+b8fX3wgffPoQZ\n",
    "t11FWgqFMDu+KsTzy78kmpXnClLi0mDo9IC+98IN+uj4EOXWhsVxwNkHPiNTqgSw89wbBlKOi+3o\n",
    "tEY8Pv9zbM3OJy2FQpB17+zEc0s2cO7hB4DqxnJ0mE7Zw4rPa9UWEh7wxbm/n58MtM5oNP7JkXJc\n",
    "bMdssuCFB79Ea2MnjRPgGTabDZlP/wdffryPtBSXYuyzhxUHBYYgwj8V2m6TxcfXM/Pc6+cbwPbN\n",
    "m7f0NjU1uz8nkSA2mw0fv7QDrcouvLRqEYRC2gCD65j6zHh28Qb88u1R0lLcRpdGjS6NGhPGTdry\n",
    "Se7s39cEF9ztGVOz5hUXl24nFb9PmhtvH4v3N6+AN4OruFKGRk+3Hn+5YzUK9zunEA2biIuLbd7d\n",
    "+OIF/dov2PSTF6zYkZY28nP3ymIOe7eXYdmsD9HV0UtaCsUFtCq78Ofr3uflwx8QEGBOSIiffvHX\n",
    "+53vzk55u7y6umaU62Uxk6Thkfh02yNITYsmLYXiJI7lVeNvi9ahud79WX2kEYlEmDhx/OIvix76\n",
    "Q2ZcvxUHYmKip4WGhrgn+ZmB1J5uxV2TMrH+vV2sj3vgO2aTBe8/tw2LZ7zPy4cfAEaNGrm5v4cf\n",
    "uMQMAACWTls/o6Li1K7ubo2n66Qxn0nXSZG5IYP2IGQhlWVKPLs42+Hy3Vxi2LDU4h1nnpl0qdcv\n",
    "u+W9/Jrs6MbGpsP19Q0JzpfGHnz9vfDMuwtw36MzSEuhDACr1Yast/+Lz179CX1G7p3vDwRPTw9b\n",
    "WtqoDzeXrPzr5d43oDOvu0d/sqmi4tR9Fotr66ExnfRb0/DGusWIjA0iLYVyCeqr2vHckg04lldN\n",
    "WgoxQkND9FJp6jx5wYN7rvTeAR96L578xf2Vlac3aDQ9vD4jCwz2xfMfL6S1BRjIps8P4r1/bIVO\n",
    "656KukwkNTW5PDo6enpW7pIBleRyKOpl+TXZsU1Nzb/V1tYnD04ed7h5wQS8svp+hIQzq9cbH2lr\n",
    "6sbzy3OQ+99y0lKI4ePjbR0xYvhnm0tWPunI9w0q7O3PV699tLa27j2VqoNXUYMXExoRgL+/swC3\n",
    "L55KIwgJYDSYsGnVAax+81d0q/kZuyEUCpGamnIkPDxswfq8pQ4X9xn0XbsiPUeo0Wi+UCiql+p0\n",
    "OsZ0GSZB0vBIPPbibMy9fzI1Ajdg6jPj27W5WJv5K9qauknLIUZsbExrXFzsEnnBgzuv/O7+GfLd\n",
    "uvya7GiVqmNrVVXNNL5vEqaMjMLKl2Zj9n1XQyCgRuBsLGYrvlufh9Vv/sLbM30ACAqSGFNSkl/7\n",
    "uvjRfw11LKfdpRlT192gVDZ91dio5H34nPSqaDz+8lz86Z6JpKVwAqvVhu1fFmDVaz/xupqTl5eX\n",
    "bdiw1G1BQUEPZOUucUrXG6d/TD0wac3fampq31CrO72dPTbbGDE2Fo+/PAc3L5hAWgorsdls+Hnz\n",
    "EXz26k+oqWwlLYcYAoEAKSnJJyIjIxasz1t6xqljO3Owc6xIz/Hs6uqWKxRVCw0GA+/nwiPHx+Ev\n",
    "r8zFrPnjSEthBVarDbu3leDTV37EmRNNpOUQJTo6Sh0fH/dgTuGK710xvksfzuXXbEhua2vfVlVV\n",
    "PY7G1APJIyIxZ9FkzL1/MhKHRZCWwzhOHKnDjq8K8fPmI1C1kO8sRZLAwABTamrKe5uOPfZPV17H\n",
    "LZ/OS6ZkzWlsVG5oamqmAfWwT+nSJsZj7v2TMfu+yYiIkZCWRIzGGhV2bCzEjq8KeT3NP4eHh4dt\n",
    "2LDUX0JCQhZm5S5xeYVSt07P75+4+pWqqmoZ3xOMzkckEmLSdVLMWTQZf7pnIgKDnd8Ekml0dfTi\n",
    "l2+OYMdXhSjJr6EZl2dJTk46HRUVeVd2/rIT7rqm29fnK9JzfNXqzs0KRdXcvr4+3u8PnI+Hpxjp\n",
    "t6ZhzqKrMWv+OHj7cscnjQYT9v5Qiu0bC3FoZwUni3AOlsjICE1CQvxjXxY99LW7r03sAVw2PXtk\n",
    "a2vbVj4XHrkcvv5emJQuxejJiRh9dSLGTE5EeDR7lgoN1SqUFdSgrKAWpQU1OFXSCKOBn6XmLoW/\n",
    "v785NTX5s29KH3+alAbin8BLpmQtrKurX93a2kZT7K5AZGzQeYaQhDGTExmxZOjp0qOssBZlBTUo\n",
    "LajB8cJaVjfYcDVisRhSaeq+sLDQu7NylxCNaCJuAOe4b/yq96qqqp/q6dGKr/xuCmDfTIxLDsXo\n",
    "s2YwanwcgsMDIAn2RWCwL3z9vZxyHZvNhq6OXnSqtOhUadGl6kVLYyeOF9WhrKAGdWfaWNNLjzSJ\n",
    "iQm1MTFR92bnLy8irQVgkAEAwIr0nKCOjo7/KBTVN/G1MrEz8fAUIzDIB4HBvpCE+Nn/e9Hf/SU+\n",
    "sNls6Fafe8B70XX2QT/3p6dLD4uF+30iXElYWGhvUlLi3zYeeXgNaS3nwygDOMfSaesntLS0bKmt\n",
    "rU8hrYVCGQp+fr7W1NSU7MDAwIezcpcwzkUZaQDnWDx57fLa2vqP2ttVNOmewipEIhGk0pT8kJCQ\n",
    "O7PzlzE2wIHRBgCcSzvuWVVVVbWit1c38AboFAoh4uPjmmJjYxZtOLz8IGktV4LxBnCOFek5Ee3t\n",
    "7VsViupr+Z52TGEmISHBhuTkpH9+dfSRD0hrGSisMYBzLJ22Pl2pbNrU0NAYR1oLhQIA3t7e1mHD\n",
    "Ur+RSCRLs3KX9F35O5gD6wzgHA9MWvNkTU3tW2p1pw9pLRR+Yi/HlXwsPDz8zvV5S+tI6xkMrDUA\n",
    "AFiRniPu7u7OViiq7tfrDbwuS0ZxLzEx0e3x8XFL5AUP/kpay1BgtQGcY/k1G+Lb29u3VVXVTLJa\n",
    "GXfSQuEQQUGSvpSU5De+Ln70ddJanAEnDOAcGVPX3dLYqPxSqWyiyfYUp+Ll5WmTSlN/CA4OfiAr\n",
    "d4mOtB5nwSkDOMf9E1e/UF1d82JXVzd30ukoRLCX40oqj4gIvzM7fznn+opz0gAAYEV6jndnZ9fX\n",
    "CkXVHUajkbP/TorriIqK7ExIiH84p3DFFtJaXAXnH4zl12wY1trauq26uvYqWniCMhACAwNMKSnJ\n",
    "/95csvI50lpcDecN4BxLpmQtqK9vyGppaQ0mrYXCTM6W49oZEhJy70B767Ed3hjAOe4bv+qt6uqa\n",
    "v/K9ySnlQpKTE6uioqLuzs5fVkJaizvhnQEAwIr0nEC1Wv3tmTNVt5hMJl7+DCh2IiLCexITE574\n",
    "sughOWktJOD1zb9sevbYlpaW72pq6qSktVDci7+/nyU1NWX1N6WP/4W0FpLw2gDOsXjyF4vr6uo/\n",
    "a2trDyCtheJa7OW4Ug6GhYXdlZW7hL99xs5CDeA8Fo777JOqqurHtNpemnbMQRIS4utjYqIWbjj8\n",
    "4GHSWpgCNYCLWJGeE6ZSqbYoFNUzzWZaupoLhIaG6JKTk57ZeOThVaS1MA1qAJdg6bR105qaWr6p\n",
    "r29IIK2FMjh8fX2sqampcokk8OGs3CXUzfuBGsAV+PPVa1fW1NS+29GhJl9/mzIghEIhpNKUgrCw\n",
    "0DvX5y1rJq2HyVADGAD2tGPN2qqqqgydTk/TjhlMXFxsS2xszP3yggf3kdbCBqgBOMDya7Jj29s7\n",
    "tlZVVU+hacfMIjg4yJCSkvziV0cfeY+0FjZBDWAQZExdN0upbNrY2KiMIq2F73h7e9uk0pRvg4KC\n",
    "lrCtHBcToAYwBB6YtOYf1dU1r3V2djmnBQ9lwAgEAqSmppRGRITfuT5vaQ1pPWyFGsAQWZGe49nV\n",
    "1bVRoai622CgacfuICYmWhUXF7s0p3DFT6S1sB16wzqJ5ddsSG1ra/uuqqpmHE07dg0SSWBfSkry\n",
    "W5uOPfYyaS1cgRqAk8mYmjWvoUGZ3dTUHEpaC1fw9PS0SaWpP4aEBN/HpXJcTIAagItYNOHz16ur\n",
    "a57t7tbQtOMhkJKSXBEZGbEgO3/ZKdJauAg1ABeyIj3HX61Wb1Ioqub09dG0Y0eIjIzoSkxMeDSn\n",
    "cMU3pLVwGXpTuoFl07PTzpYlG05aC9MJCPA3p6amfLS5ZOXfSWvhA9QA3MiSKVmL6urqP29tbZOQ\n",
    "1sI0PDw8IJWm7A4NDb0nK3dJF2k9fIEaAAHuG7/qA4Wi+i9arVZMWgsTSEpKrIqKirxnw+Hlx0hr\n",
    "4RvUAAixIj0nRKXq2KJQVN3A17Tj8PBwbVJSwpNfFj2UTVoLX6EGQJhl09dPbmpq+baurj6JtBZ3\n",
    "4efnZ5FKU74ICAh4PCt3CU2qIAg1AIbw56vXPlRbW/eBStXhR1qLqxCJRJBKU3PDw8Puyspd0kZa\n",
    "D4UaAKNYkZ4j1Gg0a6qqqpf39uo4lXackBDfGBMTvXDD4eV5pLVQ/gc1AAaybHp2pFqt3qZQVE+3\n",
    "WCyk5QyJ0NAQfXJy0rMbjzz8CWktlD9CDYDBLJ22foZS2bSpoaExhrQWR/Hx8bFKpSkbJRLJg7Qc\n",
    "F3OhBsACHpi05v9qamr/pVZ3epPWciWEQiFSU1OKwsND71yft0xJWg/l8lADYAkr0nM8u7u7N5w5\n",
    "U7XQYDAwcn8gLi62NTY25gF5wYN7SGuhDAxqACxj+TUbEtvb27dVVdVMYEpZsuDgIGNKStKrXx19\n",
    "NJO0FopjUANgKRlT181uaGiUNzU1h5HS4O3tZZNKU7ecLcdlIKWDMnioAbCc+yeufrm6uuafXV3d\n",
    "nu66pkAgQEpKcllkZMSC9XlLq9x1XYrzoQbAAVak5/hqNJoPGhuVS1y5USgUCpGQEFcbGRnxtLxg\n",
    "xQ+uug7FfVAD4BgPTFrzj+bmlmecuTTw9fWxJiTE5wYHBz+Rnb+szFnjUshDDYCjZEzNmt/Wpnqn\n",
    "vr5h+GCDicLCQnUxMdEbAwMD/5aVu0TrZIkUBkANgOMsm5490mg0LjQYjJMMBv1wrbY3WqPRBJxf\n",
    "wVgkEiEgwL/Pz8+vy8fHu9nLy7va19fn5y+LHsoiqZ3ieqgB8JRl07PTzGbzVLFYdEIkEh+lWXn8\n",
    "5P8BA4FJDUx3CFkAAAAASUVORK5CYII=\n",
    "\"\n",
    "     alt=\"C# Logo\" style=\"display:block;margin:auto;width:5%\"/>\n",
    "<br>\n",
    "\n",
    "<div style=\"text-align:center; font-size:200%;\">\n",
    " <b>Mocking mit Moq</b>\n",
    "</div>\n",
    "<br/>\n",
    "<div style=\"text-align:center; font-size:120%;\">Dr. Matthias Hölzl</div>\n",
    "<br/>\n",
    "<div style=\"text-align:center;\">Coding-Akademie München</div>\n",
    "<br/>"
   ]
  },
  {
   "cell_type": "markdown",
   "id": "2e780f51290d8608",
   "metadata": {
    "lang": "de",
    "slideshow": {
     "slide_type": "subslide"
    },
    "tags": [
     "subslide"
    ]
   },
   "source": [
    "\n",
    "# Das Moq Mocking Framework (für C#)\n",
    "\n",
    "- [Moq](https://github.com/moq/moq4) ist ein Mocking-Framework für C#\n",
    "- Ermöglicht das Erstellen von Mock-Objekten"
   ]
  },
  {
   "cell_type": "code",
   "execution_count": null,
   "id": "6d72672c2803628d",
   "metadata": {
    "slideshow": {
     "slide_type": "subslide"
    },
    "tags": [
     "keep",
     "subslide"
    ]
   },
   "outputs": [],
   "source": [
    "#r \"nuget: Moq, 4.17\"\n",
    "#r \"nuget: xunit, *\""
   ]
  },
  {
   "cell_type": "code",
   "execution_count": null,
   "id": "c26f9b16871ad3ed",
   "metadata": {
    "tags": [
     "keep"
    ]
   },
   "outputs": [],
   "source": [
    "#load \"XunitTestRunner.cs\""
   ]
  },
  {
   "cell_type": "markdown",
   "id": "fc640814aaf534ba",
   "metadata": {
    "lang": "de",
    "slideshow": {
     "slide_type": "subslide"
    },
    "tags": [
     "subslide"
    ]
   },
   "source": [
    "\n",
    "## Beispiel: Mocken einer Liste\n",
    "\n",
    "- Erstellen eines Mock-Objekts für eine Liste\n",
    "- Implementiert alle Methoden des `IList`-Interfaces\n",
    "- Kann verwendet werden, um Methodenaufrufe zu überprüfen"
   ]
  },
  {
   "cell_type": "code",
   "execution_count": null,
   "id": "87667398dddb57a4",
   "metadata": {
    "tags": [
     "keep"
    ]
   },
   "outputs": [],
   "source": [
    "using Moq;\n",
    "using System.Collections.Generic;"
   ]
  },
  {
   "cell_type": "code",
   "execution_count": null,
   "id": "f15a0e7bfe7c5139",
   "metadata": {},
   "outputs": [],
   "source": []
  },
  {
   "cell_type": "code",
   "execution_count": null,
   "id": "ab5d3e3aa571d6e0",
   "metadata": {},
   "outputs": [],
   "source": []
  },
  {
   "cell_type": "code",
   "execution_count": null,
   "id": "456a7eeb34a83be5",
   "metadata": {
    "slideshow": {
     "slide_type": "subslide"
    },
    "tags": [
     "subslide",
     "keep"
    ]
   },
   "outputs": [],
   "source": [
    "mockedList.Verify(list => list.Add(\"Hello!\"));"
   ]
  },
  {
   "cell_type": "code",
   "execution_count": null,
   "id": "117c11c5a0603b0c",
   "metadata": {},
   "outputs": [],
   "source": []
  },
  {
   "cell_type": "code",
   "execution_count": null,
   "id": "3f51adc2999d2665",
   "metadata": {},
   "outputs": [],
   "source": []
  },
  {
   "cell_type": "markdown",
   "id": "4aeaa64b2fa8949a",
   "metadata": {
    "lang": "de",
    "slideshow": {
     "slide_type": "subslide"
    },
    "tags": [
     "subslide"
    ]
   },
   "source": [
    "\n",
    "- Überprüfen der Anzahl der Aufrufe:"
   ]
  },
  {
   "cell_type": "code",
   "execution_count": null,
   "id": "09cf45f7624f588d",
   "metadata": {
    "tags": [
     "keep"
    ]
   },
   "outputs": [],
   "source": [
    "var mockedListCount = new Mock<IList<string>>();"
   ]
  },
  {
   "cell_type": "code",
   "execution_count": null,
   "id": "f46d7aedd2025bd2",
   "metadata": {},
   "outputs": [],
   "source": []
  },
  {
   "cell_type": "code",
   "execution_count": null,
   "id": "f25b792b5dfba4e2",
   "metadata": {},
   "outputs": [],
   "source": []
  },
  {
   "cell_type": "code",
   "execution_count": null,
   "id": "9f3d50a69512a109",
   "metadata": {},
   "outputs": [],
   "source": []
  },
  {
   "cell_type": "code",
   "execution_count": null,
   "id": "fe6a58f0842fcb16",
   "metadata": {},
   "outputs": [],
   "source": []
  },
  {
   "cell_type": "code",
   "execution_count": null,
   "id": "385a9e314dcbaceb",
   "metadata": {},
   "outputs": [],
   "source": []
  },
  {
   "cell_type": "markdown",
   "id": "5eec1d53d6e6461d",
   "metadata": {
    "lang": "de",
    "slideshow": {
     "slide_type": "subslide"
    },
    "tags": [
     "subslide"
    ]
   },
   "source": [
    "\n",
    "- Überprüfen, dass eine Methode nicht aufgerufen wurde:"
   ]
  },
  {
   "cell_type": "code",
   "execution_count": null,
   "id": "4fbcc8b91e32a253",
   "metadata": {
    "tags": [
     "keep"
    ]
   },
   "outputs": [],
   "source": [
    "var mockedListNever = new Mock<IList<string>>();"
   ]
  },
  {
   "cell_type": "code",
   "execution_count": null,
   "id": "9385484655032e52",
   "metadata": {},
   "outputs": [],
   "source": []
  },
  {
   "cell_type": "markdown",
   "id": "c0225c4ff75a9a3d",
   "metadata": {
    "lang": "de",
    "slideshow": {
     "slide_type": "subslide"
    },
    "tags": [
     "subslide"
    ]
   },
   "source": [
    "\n",
    "- Argument Matcher:\n",
    "  - `It.IsAny<T>()`, `It.IsAny<string>()`, ...\n",
    "  - `It.IsNull()`, `It.EndsWith()`, `It.Is<T>(...)`, ..."
   ]
  },
  {
   "cell_type": "code",
   "execution_count": null,
   "id": "eb4d0969afc72066",
   "metadata": {
    "slideshow": {
     "slide_type": "subslide"
    },
    "tags": [
     "keep",
     "subslide"
    ]
   },
   "outputs": [],
   "source": [
    "var mockedListMatchers = new Mock<IList<string>>();\n",
    "mockedListMatchers.Object.Add(\"Hello!\");"
   ]
  },
  {
   "cell_type": "code",
   "execution_count": null,
   "id": "241859d916707ffa",
   "metadata": {},
   "outputs": [],
   "source": []
  },
  {
   "cell_type": "code",
   "execution_count": null,
   "id": "dca049f2f35c852c",
   "metadata": {},
   "outputs": [],
   "source": []
  },
  {
   "cell_type": "code",
   "execution_count": null,
   "id": "2e36f060fb4381e6",
   "metadata": {},
   "outputs": [],
   "source": []
  },
  {
   "cell_type": "code",
   "execution_count": null,
   "id": "76fa691dd30bff02",
   "metadata": {},
   "outputs": [],
   "source": []
  },
  {
   "cell_type": "code",
   "execution_count": null,
   "id": "74d704a26915f6dc",
   "metadata": {
    "slideshow": {
     "slide_type": "subslide"
    },
    "tags": [
     "keep",
     "subslide"
    ]
   },
   "outputs": [],
   "source": [
    "var mockedListIsNull = new Mock<IList<string>>();\n",
    "mockedListIsNull.Object.Add(null);"
   ]
  },
  {
   "cell_type": "code",
   "execution_count": null,
   "id": "054c8132a2ad1091",
   "metadata": {},
   "outputs": [],
   "source": []
  },
  {
   "cell_type": "markdown",
   "id": "977fc0b13b505bfb",
   "metadata": {
    "lang": "de",
    "slideshow": {
     "slide_type": "subslide"
    },
    "tags": [
     "subslide"
    ]
   },
   "source": [
    "\n",
    "- Mindest- und Maximalanzahl von Aufrufen:"
   ]
  },
  {
   "cell_type": "code",
   "execution_count": null,
   "id": "ac155e07873f6a50",
   "metadata": {
    "tags": [
     "keep"
    ]
   },
   "outputs": [],
   "source": [
    "var mockedListLimits = new Mock<IList<string>>();"
   ]
  },
  {
   "cell_type": "code",
   "execution_count": null,
   "id": "5d9f4d10225cdde6",
   "metadata": {
    "tags": [
     "keep"
    ]
   },
   "outputs": [],
   "source": [
    "mockedListLimits.Object.Add(\"Once!\");\n",
    "mockedListLimits.Object.Add(\"Twice!\");\n",
    "mockedListLimits.Object.Add(\"Twice!\");\n",
    "mockedListLimits.Object.Add(\"Three times!\");\n",
    "mockedListLimits.Object.Add(\"Three times!\");\n",
    "mockedListLimits.Object.Add(\"Three times!\");"
   ]
  },
  {
   "cell_type": "code",
   "execution_count": null,
   "id": "8fa28f2d15218f4a",
   "metadata": {},
   "outputs": [],
   "source": []
  },
  {
   "cell_type": "code",
   "execution_count": null,
   "id": "918fa82b136e5df6",
   "metadata": {},
   "outputs": [],
   "source": []
  },
  {
   "cell_type": "code",
   "execution_count": null,
   "id": "a4f0b54f2b19d0e8",
   "metadata": {},
   "outputs": [],
   "source": []
  },
  {
   "cell_type": "code",
   "execution_count": null,
   "id": "6bd9aa328482a216",
   "metadata": {},
   "outputs": [],
   "source": []
  },
  {
   "cell_type": "markdown",
   "id": "993a9bd0600583e2",
   "metadata": {
    "lang": "de",
    "slideshow": {
     "slide_type": "subslide"
    },
    "tags": [
     "subslide"
    ]
   },
   "source": [
    "\n",
    "## Stubbing\n",
    "\n",
    "- Manchmal ist es notwendig, das Verhalten eines Mock-Objekts zu definieren\n",
    "- Mit `Setup()` und `Returns()` und `Throws()` kann das Verhalten festgelegt werden"
   ]
  },
  {
   "cell_type": "code",
   "execution_count": null,
   "id": "bc4e75c8f8dae161",
   "metadata": {
    "slideshow": {
     "slide_type": "subslide"
    },
    "tags": [
     "keep",
     "subslide"
    ]
   },
   "outputs": [],
   "source": [
    "var mockedListStub = new Mock<IList<string>>();"
   ]
  },
  {
   "cell_type": "code",
   "execution_count": null,
   "id": "4ef04cf5b9f62563",
   "metadata": {},
   "outputs": [],
   "source": []
  },
  {
   "cell_type": "code",
   "execution_count": null,
   "id": "f22b4cb45741384f",
   "metadata": {},
   "outputs": [],
   "source": []
  },
  {
   "cell_type": "code",
   "execution_count": null,
   "id": "9f7214057dc8bba9",
   "metadata": {},
   "outputs": [],
   "source": []
  },
  {
   "cell_type": "code",
   "execution_count": null,
   "id": "66d1c680dab7fef7",
   "metadata": {},
   "outputs": [],
   "source": []
  },
  {
   "cell_type": "code",
   "execution_count": null,
   "id": "61fefe622ee9741d",
   "metadata": {},
   "outputs": [],
   "source": []
  },
  {
   "cell_type": "code",
   "execution_count": null,
   "id": "92d24ab8b1e16906",
   "metadata": {},
   "outputs": [],
   "source": []
  },
  {
   "cell_type": "markdown",
   "id": "21ca4770ab9b33cf",
   "metadata": {
    "lang": "de",
    "slideshow": {
     "slide_type": "subslide"
    },
    "tags": [
     "subslide"
    ]
   },
   "source": [
    "\n",
    "## Verwendung von Moq in Tests\n",
    "\n",
    "- In xUnit-Tests können Mock-Objekte verwendet werden, um Abhängigkeiten zu simulieren\n",
    "- Die `Verify()`-Methode wirft eine Exception, wenn sie einen Fehler findet\n",
    "- Das führt zu einem fehlgeschlagenen Test"
   ]
  },
  {
   "cell_type": "code",
   "execution_count": null,
   "id": "75dd412eecbd0437",
   "metadata": {
    "slideshow": {
     "slide_type": "subslide"
    },
    "tags": [
     "keep",
     "subslide"
    ]
   },
   "outputs": [],
   "source": [
    "using Xunit;\n",
    "using Moq;\n",
    "\n",
    "public class ListTest {\n",
    "    [Fact]\n",
    "    public void TestList() {\n",
    "        var mockedList = new Mock<IList<string>>();\n",
    "\n",
    "        mockedList.Object.Add(\"Hello!\");\n",
    "\n",
    "        mockedList.Verify(m => m.Add(\"Hello!\"));\n",
    "    }\n",
    "\n",
    "    [Fact]\n",
    "    public void FailedTest() {\n",
    "        var mockedList = new Mock<IList<string>>();\n",
    "\n",
    "        mockedList.Object.Add(\"Hello!\");\n",
    "\n",
    "        mockedList.Verify(m => m.Add(\"World!\")); // This will fail\n",
    "    }\n",
    "}"
   ]
  },
  {
   "cell_type": "code",
   "execution_count": null,
   "id": "05d50fd9a6727b1b",
   "metadata": {
    "slideshow": {
     "slide_type": "subslide"
    },
    "tags": [
     "subslide"
    ]
   },
   "outputs": [],
   "source": []
  },
  {
   "cell_type": "markdown",
   "id": "61948e3dbad033cd",
   "metadata": {
    "lang": "de",
    "slideshow": {
     "slide_type": "subslide"
    },
    "tags": [
     "subslide"
    ]
   },
   "source": [
    "\n",
    "## Workshop: Test eines Steuerungssystems für ein Raumschiff\n",
    "\n",
    "In diesem Workshop arbeiten Sie mit einem einfachen Steuerungssystem für ein\n",
    "Raumschiff. Das System interagiert mit verschiedenen Sensoren und einem\n",
    "Funksender. Ihre Aufgabe ist es, Tests für dieses System mit Moq zu\n",
    "schreiben.\n",
    "\n",
    "Hier ist eine einfache Implementierung unseres Raumschiff-Steuerungssystems:"
   ]
  },
  {
   "cell_type": "code",
   "execution_count": null,
   "id": "77db63123fce1ccc",
   "metadata": {
    "slideshow": {
     "slide_type": "subslide"
    },
    "tags": [
     "keep",
     "subslide"
    ]
   },
   "outputs": [],
   "source": [
    "public interface ITemperatureSensor {\n",
    "    double GetTemperature();\n",
    "}"
   ]
  },
  {
   "cell_type": "code",
   "execution_count": null,
   "id": "cb33da1a2e491164",
   "metadata": {
    "tags": [
     "keep"
    ]
   },
   "outputs": [],
   "source": [
    "public interface IFuelSensor {\n",
    "    double GetFuelLevel();\n",
    "}"
   ]
  },
  {
   "cell_type": "code",
   "execution_count": null,
   "id": "c29042d48dfa8e76",
   "metadata": {
    "tags": [
     "keep"
    ]
   },
   "outputs": [],
   "source": [
    "public interface IRadioTransmitter {\n",
    "    void Transmit(string message);\n",
    "}"
   ]
  },
  {
   "cell_type": "code",
   "execution_count": null,
   "id": "5b9e130c3ab2b197",
   "metadata": {
    "slideshow": {
     "slide_type": "subslide"
    },
    "tags": [
     "keep",
     "subslide"
    ]
   },
   "outputs": [],
   "source": [
    "public class SpacecraftControlSystem {\n",
    "    private readonly ITemperatureSensor _tempSensor;\n",
    "    private readonly IFuelSensor _fuelSensor;\n",
    "    private readonly IRadioTransmitter _radio;\n",
    "\n",
    "    public SpacecraftControlSystem(ITemperatureSensor tempSensor, IFuelSensor fuelSensor, IRadioTransmitter radio) {\n",
    "        _tempSensor = tempSensor;\n",
    "        _fuelSensor = fuelSensor;\n",
    "        _radio = radio;\n",
    "    }\n",
    "\n",
    "    public void CheckAndReportStatus() {\n",
    "        var temp = _tempSensor.GetTemperature();\n",
    "        var fuel = _fuelSensor.GetFuelLevel();\n",
    "\n",
    "        if (temp > 100) {\n",
    "            _radio.Transmit(\"Warning: High temperature!\");\n",
    "        }\n",
    "\n",
    "        if (fuel < 10) {\n",
    "            _radio.Transmit(\"Warning: Low fuel!\");\n",
    "        }\n",
    "\n",
    "        _radio.Transmit($\"Status: Temperature {temp}, Fuel {fuel}\");\n",
    "    }\n",
    "}"
   ]
  },
  {
   "cell_type": "markdown",
   "id": "2608fde4ca57cfc4",
   "metadata": {
    "lang": "de",
    "slideshow": {
     "slide_type": "subslide"
    },
    "tags": [
     "subslide"
    ]
   },
   "source": [
    "\n",
    "## Beispiel\n",
    "\n",
    "So könnten Sie dieses System verwenden:"
   ]
  },
  {
   "cell_type": "code",
   "execution_count": null,
   "id": "b504bdb09e500163",
   "metadata": {
    "tags": [
     "keep"
    ]
   },
   "outputs": [],
   "source": [
    "public class RealTemperatureSensor : ITemperatureSensor {\n",
    "    public double GetTemperature() {\n",
    "        return 75.0; // Simulated temperature reading\n",
    "    }\n",
    "}"
   ]
  },
  {
   "cell_type": "code",
   "execution_count": null,
   "id": "c7286544e2019629",
   "metadata": {
    "tags": [
     "keep"
    ]
   },
   "outputs": [],
   "source": [
    "public class RealFuelSensor : IFuelSensor {\n",
    "    public double GetFuelLevel() {\n",
    "        return 50.0; // Simulated fuel level\n",
    "    }\n",
    "}"
   ]
  },
  {
   "cell_type": "code",
   "execution_count": null,
   "id": "8099ac79d80b4000",
   "metadata": {
    "tags": [
     "keep"
    ]
   },
   "outputs": [],
   "source": [
    "public class RealRadioTransmitter : IRadioTransmitter {\n",
    "    public void Transmit(string message) {\n",
    "        Console.WriteLine(\"Transmitting: \" + message);\n",
    "    }\n",
    "}"
   ]
  },
  {
   "cell_type": "code",
   "execution_count": null,
   "id": "5370fd2031883fad",
   "metadata": {
    "slideshow": {
     "slide_type": "subslide"
    },
    "tags": [
     "keep",
     "subslide"
    ]
   },
   "outputs": [],
   "source": [
    "ITemperatureSensor realTempSensor = new RealTemperatureSensor();\n",
    "IFuelSensor realFuelSensor = new RealFuelSensor();\n",
    "IRadioTransmitter realRadio = new RealRadioTransmitter();"
   ]
  },
  {
   "cell_type": "code",
   "execution_count": null,
   "id": "8ff4d7ed483c43f2",
   "metadata": {
    "tags": [
     "keep"
    ]
   },
   "outputs": [],
   "source": [
    "SpacecraftControlSystem spacecraft = new SpacecraftControlSystem(\n",
    "                                            realTempSensor, realFuelSensor, realRadio);"
   ]
  },
  {
   "cell_type": "code",
   "execution_count": null,
   "id": "75fbddbf0698b7f7",
   "metadata": {
    "tags": [
     "keep"
    ]
   },
   "outputs": [],
   "source": [
    "spacecraft.CheckAndReportStatus();"
   ]
  },
  {
   "cell_type": "markdown",
   "id": "34a5a9663dbab077",
   "metadata": {
    "lang": "de",
    "slideshow": {
     "slide_type": "subslide"
    },
    "tags": [
     "subslide"
    ]
   },
   "source": [
    "\n",
    "Ihre Aufgabe ist es, Tests für das `SpacecraftControlSystem` unter Verwendung\n",
    "von Moq zu schreiben. Implementieren Sie die folgenden Testfälle:\n",
    "\n",
    "1. Testen des normalen Betriebs:\n",
    "   - Überprüfen Sie den normalen Betrieb des Raumschiffs, wenn die Temperatur\n",
    "     normal und der Kraftstoffstand ausreichend ist.\n",
    "2. Testen der Warnung bei hoher Temperatur:\n",
    "   - Überprüfen Sie, dass das Raumschiff eine Warnung bei einer Temperatur\n",
    "     über 100 Grad überträgt.\n",
    "3. Testen der Warnung bei niedrigem Kraftstoffstand:\n",
    "   - Überprüfen Sie, dass das Raumschiff eine Warnung bei einem Kraftstoffstand\n",
    "     unter 10 überträgt.\n",
    "4. Testen mehrerer Warnungen:\n",
    "   - Überprüfen Sie, dass das Raumschiff sowohl eine Warnung bei hoher Temperatur\n",
    "     als auch bei niedrigem Kraftstoffstand überträgt, wenn beide Bedingungen\n",
    "     erfüllt sind."
   ]
  },
  {
   "cell_type": "markdown",
   "id": "3b0bf7b4f9d207f5",
   "metadata": {
    "lang": "de",
    "slideshow": {
     "slide_type": "subslide"
    },
    "tags": [
     "subslide"
    ]
   },
   "source": [
    "\n",
    "#### Bonusaufgabe:\n",
    "\n",
    "5. Testen der Fehlerbehandlung:\n",
    "   - Ändern Sie das `SpacecraftControlSystem`, um Ausnahmen von den Sensoren\n",
    "     zu behandeln, und schreiben Sie einen Test, um dieses Verhalten zu überprüfen."
   ]
  },
  {
   "cell_type": "code",
   "execution_count": null,
   "id": "de3c6d6140c141d6",
   "metadata": {
    "slideshow": {
     "slide_type": "subslide"
    },
    "tags": [
     "keep",
     "subslide"
    ]
   },
   "outputs": [],
   "source": [
    "using Xunit;\n",
    "using Moq;"
   ]
  },
  {
   "cell_type": "code",
   "execution_count": null,
   "id": "2f0b6d8712458339",
   "metadata": {
    "slideshow": {
     "slide_type": "subslide"
    },
    "tags": [
     "subslide"
    ]
   },
   "outputs": [],
   "source": []
  },
  {
   "cell_type": "code",
   "execution_count": null,
   "id": "24eabbbea511e37a",
   "metadata": {
    "slideshow": {
     "slide_type": "subslide"
    },
    "tags": [
     "subslide"
    ]
   },
   "outputs": [],
   "source": []
  },
  {
   "cell_type": "code",
   "execution_count": null,
   "id": "86ebf132b56c51ab",
   "metadata": {
    "slideshow": {
     "slide_type": "subslide"
    },
    "tags": [
     "keep",
     "subslide"
    ]
   },
   "outputs": [],
   "source": [
    "using Xunit;\n",
    "using Moq;"
   ]
  },
  {
   "cell_type": "code",
   "execution_count": null,
   "id": "0ec124da377dfb8a",
   "metadata": {
    "slideshow": {
     "slide_type": "subslide"
    },
    "tags": [
     "subslide"
    ]
   },
   "outputs": [],
   "source": []
  },
  {
   "cell_type": "code",
   "execution_count": null,
   "id": "c8b8c3fcd24bd957",
   "metadata": {
    "slideshow": {
     "slide_type": "subslide"
    },
    "tags": [
     "subslide"
    ]
   },
   "outputs": [],
   "source": []
  },
  {
   "cell_type": "code",
   "execution_count": null,
   "id": "6b4e03423667dbb7",
   "metadata": {},
   "outputs": [],
   "source": []
  }
 ],
 "metadata": {
  "jupytext": {
   "cell_metadata_filter": "tags,lang,-all",
   "encoding": "// -*- coding: utf-8 -*-",
   "main_language": "csharp",
   "notebook_metadata_filter": "-all"
  },
  "kernelspec": {
   "display_name": ".NET (C#)",
   "language": "C#",
   "name": ".net-csharp"
  },
  "language_info": {
   "file_extension": ".cs",
   "mimetype": "text/x-csharp",
   "name": "C#",
   "pygments_lexer": "csharp",
   "version": "12.0"
  }
 },
 "nbformat": 4,
 "nbformat_minor": 5
}
